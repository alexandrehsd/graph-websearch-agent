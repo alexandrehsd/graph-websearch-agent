{
 "cells": [
  {
   "cell_type": "markdown",
   "metadata": {},
   "source": [
    "# Graph WebSearch Agent"
   ]
  },
  {
   "cell_type": "markdown",
   "metadata": {},
   "source": [
    "In this project, we are going to build a Graph Web Search Agent. The Agent will take a research question as input, and we'll employ some agents to address the user question. \n",
    "\n",
    "Since some research question might be hard to reason and to answer. We are going to split the task, and different agents will take care of\n",
    "\n",
    "- planning what are the steps necessary to answer the question\n",
    "- filter the relevant documents that were found in the web\n",
    "- generate a report from the documents retrieved.\n"
   ]
  },
  {
   "cell_type": "markdown",
   "metadata": {},
   "source": [
    "## 1. Architecture"
   ]
  },
  {
   "cell_type": "markdown",
   "metadata": {},
   "source": [
    "The solution implemented will follow the architecture shown below:\n",
    "\n",
    "<img src=\"../images/graph.png\" alt=\"architecture\" width=\"600\">"
   ]
  },
  {
   "cell_type": "markdown",
   "metadata": {},
   "source": [
    "## 2. State"
   ]
  },
  {
   "cell_type": "markdown",
   "metadata": {},
   "source": [
    "As a first step, let's implement the state of the graph. The state structure and attributes are shown below:"
   ]
  },
  {
   "cell_type": "markdown",
   "metadata": {},
   "source": [
    "<img src=\"../images/states.png\" alt=\"states\" width=\"300\">"
   ]
  },
  {
   "cell_type": "markdown",
   "metadata": {},
   "source": [
    "<img src=\"../images/state_attributes.png\" alt=\"attributes\" width=\"400\">"
   ]
  },
  {
   "cell_type": "code",
   "execution_count": 124,
   "metadata": {},
   "outputs": [],
   "source": [
    "from pydantic import BaseModel, Field\n",
    "from typing import Annotated, TypedDict, List, Literal\n",
    "from langgraph.graph.message import add_messages\n",
    "\n",
    "\n",
    "class PlannerOutput(BaseModel):\n",
    "    search_term: str = Field(\n",
    "        description=\"The most relevant search term to start with\",\n",
    "    )\n",
    "    overall_strategy: str = Field(\n",
    "        description=\"The overall strategy to guide the search process\"\n",
    "    )\n",
    "    additional_information: Annotated[List[str], add_messages] = Field(\n",
    "        description=\"Any additional information to guide the search including other search terms or filters\"\n",
    "    )\n",
    "\n",
    "\n",
    "class SelectorOutput(BaseModel):\n",
    "    selected_page_url: str = Field(\n",
    "        description=\"The exact URL of the page you selected\"\n",
    "    )\n",
    "    description: str = Field(\n",
    "        description=\"A brief description of the page\"\n",
    "    )\n",
    "    reason_for_selection: str = Field(\n",
    "        description=\"Why you selected this page\"\n",
    "    )\n",
    "    \n",
    "    \n",
    "class ReviewerOutput(BaseModel):\n",
    "    feedback: str = Field(\n",
    "        description=\"precise feedback on what is required to pass the review.\"\n",
    "    )\n",
    "    pass_review: Literal[\"True\", \"False\"] = Field(\n",
    "        description=\"whether the review will pass or not.\"\n",
    "    )\n",
    "    comprehensive: Literal[\"True\", \"False\"] = Field(\n",
    "        description=\"whether the review is comprehensive.\"\n",
    "    )\n",
    "    citations_provided: Literal[\"True\", \"False\"] = Field(\n",
    "        description=\"whether citations are provided.\"\n",
    "    )\n",
    "    relevant_to_research_question: Literal[\"True\", \"False\"] = Field(\n",
    "        description=\"whether the report is relevant to the research question.\"\n",
    "    )\n",
    "\n",
    "\n",
    "class RouterOutput(BaseModel):\n",
    "    next_agent: Literal[\"planner\", \"selector\", \"reporter\", \"print_report\"] = Field(\n",
    "        description=\"the next node of the graph to be executed.\"\n",
    "    )\n",
    "\n",
    "\n",
    "class AgentGraphState(TypedDict):\n",
    "    research_question: str\n",
    "    \n",
    "    # agents\n",
    "    planner_response: PlannerOutput\n",
    "    selector_response: SelectorOutput\n",
    "    reporter_response: Annotated[list, add_messages]r\n",
    "    reviewer_response: ReviewerOutput\n",
    "    router_response: RouterOutput\n",
    "    \n",
    "    # tools\n",
    "    serper_response: Annotated[list, add_messages]  # aka search engine results page\n",
    "    scraper_response: Annotated[list, add_messages] "
   ]
  },
  {
   "cell_type": "markdown",
   "metadata": {},
   "source": [
    "## 3. Nodes"
   ]
  },
  {
   "cell_type": "markdown",
   "metadata": {},
   "source": [
    "Once we have the Graph State, we can start building the nodes. Nodes can be agents or tools, and we are going to define each one of them in the following cells."
   ]
  },
  {
   "cell_type": "code",
   "execution_count": 2,
   "metadata": {},
   "outputs": [],
   "source": [
    "from utils.utils import get_current_utc_datetime, check_for_content\n",
    "from langchain_core.messages import SystemMessage, HumanMessage\n",
    "from langchain_core.prompts import PromptTemplate\n",
    "from pydantic import BaseModel, Field\n",
    "from typing import List, Literal\n",
    "from langgraph.graph import StateGraph, START, END\n",
    "\n",
    "from pprint import pprint"
   ]
  },
  {
   "cell_type": "code",
   "execution_count": 3,
   "metadata": {},
   "outputs": [
    {
     "data": {
      "text/plain": [
       "True"
      ]
     },
     "execution_count": 3,
     "metadata": {},
     "output_type": "execute_result"
    }
   ],
   "source": [
    "from dotenv import load_dotenv\n",
    "\n",
    "load_dotenv()"
   ]
  },
  {
   "cell_type": "code",
   "execution_count": 4,
   "metadata": {},
   "outputs": [],
   "source": [
    "from langchain_openai import ChatOpenAI\n",
    "\n",
    "MODEL = \"gpt-4o-mini\"\n",
    "TEMPERATURE = 0\n",
    "\n",
    "research_question = \"why is Maringá considered one of the warmest cities of the state of Paraná, Brazil?\""
   ]
  },
  {
   "cell_type": "markdown",
   "metadata": {},
   "source": [
    "### Planner Agent"
   ]
  },
  {
   "cell_type": "code",
   "execution_count": 106,
   "metadata": {},
   "outputs": [],
   "source": [
    "# planner agent\n",
    "planner_prompt_template = PromptTemplate.from_template(\n",
    "    \"\"\"\n",
    "    You are a planner. Your responsibility is to create a comprehensive plan to help your team answer a research question. \n",
    "    Questions may vary from simple to complex, multi-step queries. Your plan should provide appropriate guidance for your \n",
    "    team to use an internet search engine effectively.\n",
    "\n",
    "    Focus on highlighting the most relevant search term to start with, as another team member will use your suggestions \n",
    "    to search for relevant information.\n",
    "\n",
    "    If you receive feedback, you must adjust your plan accordingly. Here is the feedback received:\n",
    "    Feedback: {feedback}\n",
    "\n",
    "    Current date and time:\n",
    "    {datetime}\n",
    "    \"\"\"\n",
    ")\n",
    "\n",
    "def planner(state: AgentGraphState):\n",
    "    reviewer_response =  state.get(\"reviewer_response\", None)\n",
    "    if not reviewer_response:\n",
    "        feedback = None\n",
    "    else:\n",
    "        feedback = reviewer_response.feedback\n",
    "\n",
    "    planner_prompt = planner_prompt_template.format(\n",
    "        feedback=feedback,\n",
    "        datetime=get_current_utc_datetime()\n",
    "    )\n",
    "\n",
    "    messages = [\n",
    "        SystemMessage(content=planner_prompt),\n",
    "        HumanMessage(content=f\"research_question: {research_question}\")\n",
    "    ]\n",
    "\n",
    "    llm = ChatOpenAI(model=MODEL, temperature=TEMPERATURE)\n",
    "    structured_planner_llm = llm.with_structured_output(PlannerOutput)\n",
    "    return {\"planner_response\": structured_planner_llm.invoke(messages)}"
   ]
  },
  {
   "cell_type": "code",
   "execution_count": 6,
   "metadata": {},
   "outputs": [
    {
     "data": {
      "text/plain": [
       "{'research_question': 'why is Maringá considered one of the warmest cities of the state of Paraná, Brazil?',\n",
       " 'planner_response': PlannerOutput(search_term='Maringá warmest city Paraná', overall_strategy='Begin by searching for climate data and geographical information about Maringá. Look for studies or articles that discuss temperature averages, weather patterns, and any geographical features that contribute to its warmth. Additionally, explore local meteorological reports or government resources that may provide insights into the climate of the region.', additional_information=['Maringá climate data', 'Maringá temperature averages', 'geography of Maringá', 'climate studies Paraná', 'weather patterns Maringá']),\n",
       " 'reporter_response': [],\n",
       " 'serper_response': [],\n",
       " 'scraper_response': [],\n",
       " 'final_report': [],\n",
       " 'end_chain': []}"
      ]
     },
     "execution_count": 6,
     "metadata": {},
     "output_type": "execute_result"
    }
   ],
   "source": [
    "planner_graph = StateGraph(AgentGraphState)\n",
    "\n",
    "planner_graph.add_node(\"planner\", planner)\n",
    "\n",
    "planner_graph.add_edge(START, \"planner\")\n",
    "planner_graph.add_edge(\"planner\", END)\n",
    "\n",
    "planner_graph = planner_graph.compile()\n",
    "planner_graph.invoke({\"research_question\": research_question})"
   ]
  },
  {
   "cell_type": "markdown",
   "metadata": {},
   "source": [
    "So, basically, our planner agent seems to be behaving correctly. We still have to experiment it with feedback though, but we are going to do that later."
   ]
  },
  {
   "cell_type": "markdown",
   "metadata": {},
   "source": [
    "### WebSearch Tool"
   ]
  },
  {
   "cell_type": "markdown",
   "metadata": {},
   "source": [
    "In this section, we are going to develop the websearch tool. We could simply use a langchain module for that, such as Tavily, but let's build our own search tool just because."
   ]
  },
  {
   "cell_type": "code",
   "execution_count": 7,
   "metadata": {},
   "outputs": [],
   "source": [
    "import os \n",
    "import requests\n",
    "import json\n",
    "\n",
    "# search_term = state.planner_response.search_term\n",
    "search_term = research_question\n",
    "search_url = \"https://google.serper.dev/search\"\n",
    "headers = {\n",
    "    'Content-Type': 'application/json',\n",
    "    'X-API-KEY': os.environ[\"SERPER_API_KEY\"]\n",
    "}\n",
    "payload = json.dumps({\"q\": search_term})\n",
    "\n",
    "response = requests.request(\"POST\", search_url, headers=headers, data=payload)\n",
    "response.raise_for_status()\n",
    "results = response.json()"
   ]
  },
  {
   "cell_type": "markdown",
   "metadata": {},
   "source": [
    "Below, the results are displayed. We need to put them in a nice format to pass them to the selector agent."
   ]
  },
  {
   "cell_type": "code",
   "execution_count": 8,
   "metadata": {},
   "outputs": [
    {
     "data": {
      "text/plain": [
       "dict_keys(['searchParameters', 'organic', 'peopleAlsoAsk', 'relatedSearches', 'credits'])"
      ]
     },
     "execution_count": 8,
     "metadata": {},
     "output_type": "execute_result"
    }
   ],
   "source": [
    "results.keys()"
   ]
  },
  {
   "cell_type": "code",
   "execution_count": 9,
   "metadata": {},
   "outputs": [
    {
     "data": {
      "text/plain": [
       "[{'title': 'Maringá | Brazilian City, Tourist Destination - Britannica',\n",
       "  'link': 'https://www.britannica.com/place/Maringa',\n",
       "  'snippet': 'It lies on the Paraná Plateau, at an elevation of 169 feet (52 metres) above sea level. Maringá grew rapidly after its founding in 1947. Many of its residents ...',\n",
       "  'attributes': {'Missing': 'warmest | Show results with:warmest'},\n",
       "  'position': 1},\n",
       " {'title': 'Maringá - Wikipedia',\n",
       "  'link': 'https://en.wikipedia.org/wiki/Maring%C3%A1',\n",
       "  'snippet': 'Maringá is a municipality in southern Brazil founded on 10 May 1947 as a planned urban area. It is the third largest city in the state of Paraná, ...',\n",
       "  'attributes': {'Missing': 'warmest | Show results with:warmest'},\n",
       "  'position': 2},\n",
       " {'title': 'My green hometown of Maringa, Brazil',\n",
       "  'link': 'https://youthjournalism.org/my-green-hometown-of-maringa-brazil/',\n",
       "  'snippet': \"There are trees and lawns everywhere that add some color to the metropolitan landscape. That's why people also named Maringa the Green City, or ...\",\n",
       "  'date': 'Jun 18, 2022',\n",
       "  'attributes': {'Missing': 'warmest | Show results with:warmest'},\n",
       "  'position': 3},\n",
       " {'title': 'Paraná (state) - Wikipedia',\n",
       "  'link': 'https://en.wikipedia.org/wiki/Paran%C3%A1_(state)',\n",
       "  'snippet': 'It is subdivided into 399 municipalities, and its capital is the city of Curitiba. Other major cities are Londrina, Maringá, Ponta Grossa, Cascavel, São José ...',\n",
       "  'attributes': {'Missing': 'warmest | Show results with:warmest'},\n",
       "  'position': 4},\n",
       " {'title': 'Maringa, Parana | Brol.com',\n",
       "  'link': 'https://www.brol.com/brazil-destinations/maringa-parana/',\n",
       "  'snippet': 'In 1947, Maringa was founded as a planned area. It is the third largest city in the Parana. This is the third largest city is southern Brazil. In 1951, Maringa ...',\n",
       "  'position': 5},\n",
       " {'title': 'What is it like living in Maringá, Brazil? - Quora',\n",
       "  'link': 'https://www.quora.com/What-is-it-like-living-in-Maring%C3%A1-Brazil',\n",
       "  'snippet': 'It is one of the best Brazilian cities to raise children; together with Vitória, Blumenau, Joinville, Florianópolis, Bauru, Santo André, ...',\n",
       "  'date': 'Aug 3, 2018',\n",
       "  'sitelinks': [{'title': 'What is it like to live in Manaus Brazil? - Quora',\n",
       "    'link': 'https://www.quora.com/What-is-it-like-to-live-in-Manaus-Brazil'},\n",
       "   {'title': 'Where is the safest place to vacation in Brazil? - Quora',\n",
       "    'link': 'https://www.quora.com/Where-is-the-safest-place-to-vacation-in-Brazil'},\n",
       "   {'title': 'Would you consider Rio de Janeiro and Miami to be similar? - Quora',\n",
       "    'link': 'https://www.quora.com/Would-you-consider-Rio-de-Janeiro-and-Miami-to-be-similar'},\n",
       "   {'title': \"What are the safest major cities in Brazil? I'd love to visit the country.\",\n",
       "    'link': 'https://www.quora.com/What-are-the-safest-major-cities-in-Brazil-Id-love-to-visit-the-country'}],\n",
       "  'position': 6},\n",
       " {'title': 'A progressive but cold state? : r/Brazil - Reddit',\n",
       "  'link': 'https://www.reddit.com/r/Brazil/comments/16pynew/a_progressive_but_cold_state/',\n",
       "  'snippet': 'Santa Catalina Island and the city of Floripa has a cool winter. Also, living next to the Atlantic means the summer heat is moderated by the ocean.',\n",
       "  'date': 'Sep 23, 2023',\n",
       "  'sitelinks': [{'title': 'Maringá, Brazil : r/CityPorn - Reddit',\n",
       "    'link': 'https://www.reddit.com/r/CityPorn/comments/jfnnyi/maring%C3%A1_brazil/'},\n",
       "   {'title': 'Maringa or Caixias do Sul? - Brazil - Reddit',\n",
       "    'link': 'https://www.reddit.com/r/Brazil/comments/172kto4/maringa_or_caixias_do_sul/'},\n",
       "   {'title': 'Foreigners from cold countries living in the southern cities of Brazil ...',\n",
       "    'link': 'https://www.reddit.com/r/Brazil/comments/1bnr0fn/foreigners_from_cold_countries_living_in_the/'},\n",
       "   {'title': 'I am planning to move to Brazil on a nomad visa - Reddit',\n",
       "    'link': 'https://www.reddit.com/r/Brazil/comments/14m9yv3/i_am_planning_to_move_to_brazil_on_a_nomad_visa/'}],\n",
       "  'position': 7},\n",
       " {'title': 'Effects of Environmental and Socioeconomic Inequalities on ... - NCBI',\n",
       "  'link': 'https://www.ncbi.nlm.nih.gov/pmc/articles/PMC9778807/',\n",
       "  'snippet': 'Hospital admissions related to cardiovascular diseases were directly associated with the maximum temperature and relative humidity (Table S6), ...',\n",
       "  'date': 'Dec 9, 2022',\n",
       "  'position': 8},\n",
       " {'title': 'Maringa, Brazil: All You Must Know Before You Go (2024) - Tripadvisor',\n",
       "  'link': 'https://www.tripadvisor.com/Tourism-g658210-Maringa_State_of_Parana-Vacations.html',\n",
       "  'snippet': 'Maringa Tourism: Tripadvisor has 37768 reviews of Maringa Hotels, Attractions, and Restaurants making it your best Maringa resource.',\n",
       "  'attributes': {'Missing': 'warmest cities'},\n",
       "  'position': 9},\n",
       " {'title': 'Climate and Average Weather Year Round in Maringá Paraná, Brazil',\n",
       "  'link': 'https://weatherspark.com/y/29734/Average-Weather-in-Maring%C3%A1-Paran%C3%A1-Brazil-Year-Round',\n",
       "  'snippet': 'The hottest month of the year in Maringá is February, with an average high of 87°F and low of 70°F. The cool season lasts for 2.3 months, from May 13 to July 23 ...',\n",
       "  'attributes': {'Missing': 'warmest | Show results with:warmest'},\n",
       "  'position': 10}]"
      ]
     },
     "execution_count": 9,
     "metadata": {},
     "output_type": "execute_result"
    }
   ],
   "source": [
    "results[\"organic\"]"
   ]
  },
  {
   "cell_type": "code",
   "execution_count": 10,
   "metadata": {},
   "outputs": [
    {
     "data": {
      "text/plain": [
       "{'searchParameters': {'q': 'why is Maringá considered one of the warmest cities of the state of Paraná, Brazil?',\n",
       "  'type': 'search',\n",
       "  'engine': 'google'},\n",
       " 'organic': [{'title': 'Maringá | Brazilian City, Tourist Destination - Britannica',\n",
       "   'link': 'https://www.britannica.com/place/Maringa',\n",
       "   'snippet': 'It lies on the Paraná Plateau, at an elevation of 169 feet (52 metres) above sea level. Maringá grew rapidly after its founding in 1947. Many of its residents ...',\n",
       "   'attributes': {'Missing': 'warmest | Show results with:warmest'},\n",
       "   'position': 1},\n",
       "  {'title': 'Maringá - Wikipedia',\n",
       "   'link': 'https://en.wikipedia.org/wiki/Maring%C3%A1',\n",
       "   'snippet': 'Maringá is a municipality in southern Brazil founded on 10 May 1947 as a planned urban area. It is the third largest city in the state of Paraná, ...',\n",
       "   'attributes': {'Missing': 'warmest | Show results with:warmest'},\n",
       "   'position': 2},\n",
       "  {'title': 'My green hometown of Maringa, Brazil',\n",
       "   'link': 'https://youthjournalism.org/my-green-hometown-of-maringa-brazil/',\n",
       "   'snippet': \"There are trees and lawns everywhere that add some color to the metropolitan landscape. That's why people also named Maringa the Green City, or ...\",\n",
       "   'date': 'Jun 18, 2022',\n",
       "   'attributes': {'Missing': 'warmest | Show results with:warmest'},\n",
       "   'position': 3},\n",
       "  {'title': 'Paraná (state) - Wikipedia',\n",
       "   'link': 'https://en.wikipedia.org/wiki/Paran%C3%A1_(state)',\n",
       "   'snippet': 'It is subdivided into 399 municipalities, and its capital is the city of Curitiba. Other major cities are Londrina, Maringá, Ponta Grossa, Cascavel, São José ...',\n",
       "   'attributes': {'Missing': 'warmest | Show results with:warmest'},\n",
       "   'position': 4},\n",
       "  {'title': 'Maringa, Parana | Brol.com',\n",
       "   'link': 'https://www.brol.com/brazil-destinations/maringa-parana/',\n",
       "   'snippet': 'In 1947, Maringa was founded as a planned area. It is the third largest city in the Parana. This is the third largest city is southern Brazil. In 1951, Maringa ...',\n",
       "   'position': 5},\n",
       "  {'title': 'What is it like living in Maringá, Brazil? - Quora',\n",
       "   'link': 'https://www.quora.com/What-is-it-like-living-in-Maring%C3%A1-Brazil',\n",
       "   'snippet': 'It is one of the best Brazilian cities to raise children; together with Vitória, Blumenau, Joinville, Florianópolis, Bauru, Santo André, ...',\n",
       "   'date': 'Aug 3, 2018',\n",
       "   'sitelinks': [{'title': 'What is it like to live in Manaus Brazil? - Quora',\n",
       "     'link': 'https://www.quora.com/What-is-it-like-to-live-in-Manaus-Brazil'},\n",
       "    {'title': 'Where is the safest place to vacation in Brazil? - Quora',\n",
       "     'link': 'https://www.quora.com/Where-is-the-safest-place-to-vacation-in-Brazil'},\n",
       "    {'title': 'Would you consider Rio de Janeiro and Miami to be similar? - Quora',\n",
       "     'link': 'https://www.quora.com/Would-you-consider-Rio-de-Janeiro-and-Miami-to-be-similar'},\n",
       "    {'title': \"What are the safest major cities in Brazil? I'd love to visit the country.\",\n",
       "     'link': 'https://www.quora.com/What-are-the-safest-major-cities-in-Brazil-Id-love-to-visit-the-country'}],\n",
       "   'position': 6},\n",
       "  {'title': 'A progressive but cold state? : r/Brazil - Reddit',\n",
       "   'link': 'https://www.reddit.com/r/Brazil/comments/16pynew/a_progressive_but_cold_state/',\n",
       "   'snippet': 'Santa Catalina Island and the city of Floripa has a cool winter. Also, living next to the Atlantic means the summer heat is moderated by the ocean.',\n",
       "   'date': 'Sep 23, 2023',\n",
       "   'sitelinks': [{'title': 'Maringá, Brazil : r/CityPorn - Reddit',\n",
       "     'link': 'https://www.reddit.com/r/CityPorn/comments/jfnnyi/maring%C3%A1_brazil/'},\n",
       "    {'title': 'Maringa or Caixias do Sul? - Brazil - Reddit',\n",
       "     'link': 'https://www.reddit.com/r/Brazil/comments/172kto4/maringa_or_caixias_do_sul/'},\n",
       "    {'title': 'Foreigners from cold countries living in the southern cities of Brazil ...',\n",
       "     'link': 'https://www.reddit.com/r/Brazil/comments/1bnr0fn/foreigners_from_cold_countries_living_in_the/'},\n",
       "    {'title': 'I am planning to move to Brazil on a nomad visa - Reddit',\n",
       "     'link': 'https://www.reddit.com/r/Brazil/comments/14m9yv3/i_am_planning_to_move_to_brazil_on_a_nomad_visa/'}],\n",
       "   'position': 7},\n",
       "  {'title': 'Effects of Environmental and Socioeconomic Inequalities on ... - NCBI',\n",
       "   'link': 'https://www.ncbi.nlm.nih.gov/pmc/articles/PMC9778807/',\n",
       "   'snippet': 'Hospital admissions related to cardiovascular diseases were directly associated with the maximum temperature and relative humidity (Table S6), ...',\n",
       "   'date': 'Dec 9, 2022',\n",
       "   'position': 8},\n",
       "  {'title': 'Maringa, Brazil: All You Must Know Before You Go (2024) - Tripadvisor',\n",
       "   'link': 'https://www.tripadvisor.com/Tourism-g658210-Maringa_State_of_Parana-Vacations.html',\n",
       "   'snippet': 'Maringa Tourism: Tripadvisor has 37768 reviews of Maringa Hotels, Attractions, and Restaurants making it your best Maringa resource.',\n",
       "   'attributes': {'Missing': 'warmest cities'},\n",
       "   'position': 9},\n",
       "  {'title': 'Climate and Average Weather Year Round in Maringá Paraná, Brazil',\n",
       "   'link': 'https://weatherspark.com/y/29734/Average-Weather-in-Maring%C3%A1-Paran%C3%A1-Brazil-Year-Round',\n",
       "   'snippet': 'The hottest month of the year in Maringá is February, with an average high of 87°F and low of 70°F. The cool season lasts for 2.3 months, from May 13 to July 23 ...',\n",
       "   'attributes': {'Missing': 'warmest | Show results with:warmest'},\n",
       "   'position': 10}],\n",
       " 'peopleAlsoAsk': [{'question': 'What is Maringá, Brazil known for?',\n",
       "   'snippet': 'Much of the local economic activity is based on coffee growing. Other important crops include wheat, corn (maize), feijão (beans), rice, and sugarcane. Estadual de Maringá University is located there, as is a sizable football (soccer) stadium.',\n",
       "   'title': 'Maringá | Brazilian City, Tourist Destination - Britannica',\n",
       "   'link': 'https://www.britannica.com/place/Maringa'},\n",
       "  {'question': 'What is the climate in Paraná Brazil?',\n",
       "   'snippet': 'Paraná state, the northern region of which crosses the Tropic of Capricorn, has a moderately warm climate. Winters are dry in the northwest, while other parts receive adequate precipitation throughout the year. Summers are hot in the lower elevations and cooler—below 72 °F (22 °C)—at the higher elevations.',\n",
       "   'title': 'Paraná | Geography & Economy in Brazil | Britannica',\n",
       "   'link': 'https://www.britannica.com/place/Parana-state-Brazil'},\n",
       "  {'question': 'Is maringa Brazil safe?',\n",
       "   'snippet': 'Maringa is safe to visit. Petty or violent crimes against tourists are rare. Central neighborhoods and well-lit areas, particularly around Parque do Inga, the Cathedral, and the university campus, are generally safer. These areas tend to have more police presence and are popular with locals and tourists.',\n",
       "   'title': 'Maringa, Brazil Travel Guide: To-Dos, Safety, & Tips (2024)',\n",
       "   'link': 'https://livetravelroam.com/maringa-brazil-travel-guide/'},\n",
       "  {'question': 'What is the capital of Paraná Brazil?',\n",
       "   'snippet': 'Curitiba, the capital of Paraná state in southern Brazil, is located about 3,050 feet (930 meters) above sea level near the Brazilian Highlands and the headwaters of the Iguaçu River.',\n",
       "   'title': 'How to Get to Curitiba: The Capital of Paraná State, Brazil',\n",
       "   'link': 'https://conference.biscuitpeople.com/2024/07/04/how-to-get-to-curitiba-the-capital-of-parana-state-brazil/'}],\n",
       " 'relatedSearches': [{'query': 'Maringa to eat'},\n",
       "  {'query': 'Maringa Cream'},\n",
       "  {'query': 'Maringa meaning'},\n",
       "  {'query': 'Maringa plan'},\n",
       "  {'query': 'Maringa population'},\n",
       "  {'query': 'Maringa meaning in English'},\n",
       "  {'query': 'cities in paraná, brazil'},\n",
       "  {'query': 'What is Curitiba, Brazil known for'}],\n",
       " 'credits': 1}"
      ]
     },
     "execution_count": 10,
     "metadata": {},
     "output_type": "execute_result"
    }
   ],
   "source": [
    "results"
   ]
  },
  {
   "cell_type": "code",
   "execution_count": 11,
   "metadata": {},
   "outputs": [],
   "source": [
    "def format_results(organic_results):\n",
    "    result_strings = []\n",
    "    for result in organic_results:\n",
    "        title = result.get(\"title\", \"No Title\")\n",
    "        link = result.get(\"link\", \"#\")\n",
    "        snippet = result.get(\"snippet\", \"No snippet available\")\n",
    "        result_strings.append(f\"Title: {title}\\nLink: {link}\\nSnippet: {snippet}\\n---\")\n",
    "    \n",
    "    return \"\\n\".join(result_strings)"
   ]
  },
  {
   "cell_type": "code",
   "execution_count": 12,
   "metadata": {},
   "outputs": [
    {
     "name": "stdout",
     "output_type": "stream",
     "text": [
      "('Title: Maringá | Brazilian City, Tourist Destination - Britannica\\n'\n",
      " 'Link: https://www.britannica.com/place/Maringa\\n'\n",
      " 'Snippet: It lies on the Paraná Plateau, at an elevation of 169 feet (52 '\n",
      " 'metres) above sea level. Maringá grew rapidly after its founding in 1947. '\n",
      " 'Many of its residents ...\\n'\n",
      " '---\\n'\n",
      " 'Title: Maringá - Wikipedia\\n'\n",
      " 'Link: https://en.wikipedia.org/wiki/Maring%C3%A1\\n'\n",
      " 'Snippet: Maringá is a municipality in southern Brazil founded on 10 May 1947 '\n",
      " 'as a planned urban area. It is the third largest city in the state of '\n",
      " 'Paraná, ...\\n'\n",
      " '---\\n'\n",
      " 'Title: My green hometown of Maringa, Brazil\\n'\n",
      " 'Link: https://youthjournalism.org/my-green-hometown-of-maringa-brazil/\\n'\n",
      " 'Snippet: There are trees and lawns everywhere that add some color to the '\n",
      " \"metropolitan landscape. That's why people also named Maringa the Green City, \"\n",
      " 'or ...\\n'\n",
      " '---\\n'\n",
      " 'Title: Paraná (state) - Wikipedia\\n'\n",
      " 'Link: https://en.wikipedia.org/wiki/Paran%C3%A1_(state)\\n'\n",
      " 'Snippet: It is subdivided into 399 municipalities, and its capital is the '\n",
      " 'city of Curitiba. Other major cities are Londrina, Maringá, Ponta Grossa, '\n",
      " 'Cascavel, São José ...\\n'\n",
      " '---\\n'\n",
      " 'Title: Maringa, Parana | Brol.com\\n'\n",
      " 'Link: https://www.brol.com/brazil-destinations/maringa-parana/\\n'\n",
      " 'Snippet: In 1947, Maringa was founded as a planned area. It is the third '\n",
      " 'largest city in the Parana. This is the third largest city is southern '\n",
      " 'Brazil. In 1951, Maringa ...\\n'\n",
      " '---\\n'\n",
      " 'Title: What is it like living in Maringá, Brazil? - Quora\\n'\n",
      " 'Link: https://www.quora.com/What-is-it-like-living-in-Maring%C3%A1-Brazil\\n'\n",
      " 'Snippet: It is one of the best Brazilian cities to raise children; together '\n",
      " 'with Vitória, Blumenau, Joinville, Florianópolis, Bauru, Santo André, ...\\n'\n",
      " '---\\n'\n",
      " 'Title: A progressive but cold state? : r/Brazil - Reddit\\n'\n",
      " 'Link: '\n",
      " 'https://www.reddit.com/r/Brazil/comments/16pynew/a_progressive_but_cold_state/\\n'\n",
      " 'Snippet: Santa Catalina Island and the city of Floripa has a cool winter. '\n",
      " 'Also, living next to the Atlantic means the summer heat is moderated by the '\n",
      " 'ocean.\\n'\n",
      " '---\\n'\n",
      " 'Title: Effects of Environmental and Socioeconomic Inequalities on ... - '\n",
      " 'NCBI\\n'\n",
      " 'Link: https://www.ncbi.nlm.nih.gov/pmc/articles/PMC9778807/\\n'\n",
      " 'Snippet: Hospital admissions related to cardiovascular diseases were '\n",
      " 'directly associated with the maximum temperature and relative humidity '\n",
      " '(Table S6), ...\\n'\n",
      " '---\\n'\n",
      " 'Title: Maringa, Brazil: All You Must Know Before You Go (2024) - '\n",
      " 'Tripadvisor\\n'\n",
      " 'Link: '\n",
      " 'https://www.tripadvisor.com/Tourism-g658210-Maringa_State_of_Parana-Vacations.html\\n'\n",
      " 'Snippet: Maringa Tourism: Tripadvisor has 37768 reviews of Maringa Hotels, '\n",
      " 'Attractions, and Restaurants making it your best Maringa resource.\\n'\n",
      " '---\\n'\n",
      " 'Title: Climate and Average Weather Year Round in Maringá Paraná, Brazil\\n'\n",
      " 'Link: '\n",
      " 'https://weatherspark.com/y/29734/Average-Weather-in-Maring%C3%A1-Paran%C3%A1-Brazil-Year-Round\\n'\n",
      " 'Snippet: The hottest month of the year in Maringá is February, with an '\n",
      " 'average high of 87°F and low of 70°F. The cool season lasts for 2.3 months, '\n",
      " 'from May 13 to July 23 ...\\n'\n",
      " '---')\n"
     ]
    }
   ],
   "source": [
    "pprint(format_results(results[\"organic\"]))"
   ]
  },
  {
   "cell_type": "markdown",
   "metadata": {},
   "source": [
    "Okay, with the results in shape, let's create the node recycling the code we developed so far."
   ]
  },
  {
   "cell_type": "code",
   "execution_count": 13,
   "metadata": {},
   "outputs": [],
   "source": [
    "import os\n",
    "import ast\n",
    "import requests\n",
    "import json\n",
    "from langchain_community.utilities import GoogleSerperAPIWrapper\n",
    "\n",
    "\n",
    "def google_serper(state: AgentGraphState):\n",
    "    \n",
    "    search_term = state[\"planner_response\"].search_term\n",
    "    search_url = \"https://google.serper.dev/search\"\n",
    "    headers = {\n",
    "        'Content-Type': 'application/json',\n",
    "        'X-API-KEY': os.environ[\"SERPER_API_KEY\"]\n",
    "    }\n",
    "    payload = json.dumps({\"q\": search_term})\n",
    "    \n",
    "    try:\n",
    "        response = requests.post(search_url, headers=headers, data=payload)\n",
    "        response.raise_for_status()\n",
    "        results = response.json()\n",
    "        \n",
    "        if 'organic' in results:\n",
    "            formatted_results = format_results(results[\"organic\"])\n",
    "            return {\"serper_response\": formatted_results}\n",
    "        else:\n",
    "            return {\"serper_response\": \"No organic results found\"}\n",
    "    \n",
    "    except requests.exceptions.HTTPError as http_error:\n",
    "        return {**state, \"serper_response\": f\"HTTP error occurred: {http_error}\"}\n",
    "    except requests.exceptions.RequestException as req_error:\n",
    "        return {**state, \"serper_response\": f\"Request error occurred: {req_error}\"}\n",
    "    except KeyError as key_error:\n",
    "        return {**state, \"serper_response\": f\"Key error occurred: {key_error}\"}"
   ]
  },
  {
   "cell_type": "code",
   "execution_count": 14,
   "metadata": {},
   "outputs": [
    {
     "data": {
      "text/plain": [
       "{'research_question': 'why is Maringá considered one of the warmest cities of the state of Paraná, Brazil?',\n",
       " 'planner_response': PlannerOutput(search_term='Maringá warmest city Paraná', overall_strategy='Begin by searching for climate data and geographical information about Maringá. Look for studies or articles that discuss temperature averages, weather patterns, and any geographical features that contribute to its warmth. Additionally, explore local meteorological reports and historical climate data to understand the factors influencing its temperature.', additional_information=['Maringá climate data', 'Maringá temperature averages', 'geography of Maringá', 'weather patterns in Paraná', 'Maringá historical climate']),\n",
       " 'reporter_response': [],\n",
       " 'serper_response': [HumanMessage(content='Title: Maringá climate: weather by month, temperature, rain\\nLink: https://www.climatestotravel.com/climate/brazil/maring%C3%A1\\nSnippet: January is generally a warm to hot, muggy month. The average temperature is of 25.4 °C (78 °F), with a minimum of 21 °C (69.7 °F) and a maximum of 29.8 °C (85.7 ...\\n---\\nTitle: Climate and Average Weather Year Round in Maringá Paraná, Brazil\\nLink: https://weatherspark.com/y/29734/Average-Weather-in-Maring%C3%A1-Paran%C3%A1-Brazil-Year-Round\\nSnippet: The hottest month of the year in Maringá is February, with an average high of 87°F and low of 70°F. The cool season lasts for 2.3 months, from May 13 to July 23 ...\\n---\\nTitle: Maringá - Wikipedia\\nLink: https://en.wikipedia.org/wiki/Maring%C3%A1\\nSnippet: Maringá is a municipality in southern Brazil founded on 10 May 1947 as a planned urban area. It is the third largest city in the state of Paraná, ...\\n---\\nTitle: Weather Maringa & temperature by month - Climate-Data.org\\nLink: https://en.climate-data.org/south-america/brazil/parana/maringa-4479/\\nSnippet: The mean yearly temperature observed in Maringa is recorded to be 22.0 °C | 71.6 °F. The annual rainfall is 1561 mm | 61.5 inch.\\n---\\nTitle: Maringá | Brazilian City, Tourist Destination - Britannica\\nLink: https://www.britannica.com/place/Maringa\\nSnippet: Maringá, city, northwestern Paraná estado (state), southern Brazil. It lies on the Paraná Plateau, at an elevation of 169 feet (52 metres) above sea level.\\n---\\nTitle: Climate: Paraná in Brazil - Worlddata.info\\nLink: https://www.worlddata.info/america/brazil/climate-parana.php\\nSnippet: The average annual temperature in the region of Paraná is 22 degrees Celcius. It is highest in January at 26 °C and lowest in July. Sunshine hours per day 0 ...\\n---\\nTitle: Average monthly and annual air temperatures in Maringa\\nLink: https://www.weatherandclimate.eu/history/83767\\nSnippet: Average monthly and annual air temperatures in Maringa ; 24.7, 24.4, 24.6, 21.4, 18.8 ; 24.3, 22.5, 23.3, 21.8, 17.4 ...\\n---\\nTitle: Compare the Climate and Weather in Maringá to Another City\\nLink: https://weatherspark.com/compare/y/29734/Comparison-of-the-Average-Weather-in-Maring%C3%A1\\nSnippet: Compare the Climate and Weather in Maringá to Another City. Weather Spark lets you ... warm 85°F hot 95°F sweltering. Comparison of: Maringá · Map. Marker.\\n---\\nTitle: Maringa, Parana | Brol.com\\nLink: https://www.brol.com/brazil-destinations/maringa-parana/\\nSnippet: In 1947, Maringa was founded as a planned area. It is the third largest city in the Parana. This is the third largest city is southern Brazil. In 1951, Maringa ...\\n---\\nTitle: knowing maringá - pgm@uem.br\\nLink: http://www.pgm.uem.br/english/maringa/maringa.htm\\nSnippet: The coldest season presents average temperature inferior to 18ºC/64.4ºF ... Currently, Maringá is the third biggest city of Paraná and occupies the 5th ...\\n---', additional_kwargs={}, response_metadata={}, id='8b05853c-aa01-4e69-95a7-1e27ec8cdecb')],\n",
       " 'scraper_response': [],\n",
       " 'final_report': [],\n",
       " 'end_chain': []}"
      ]
     },
     "execution_count": 14,
     "metadata": {},
     "output_type": "execute_result"
    }
   ],
   "source": [
    "graph = StateGraph(AgentGraphState)\n",
    "\n",
    "graph.add_node(\"planner\", planner)\n",
    "graph.add_node(\"websearch\", google_serper)\n",
    "\n",
    "graph.add_edge(START, \"planner\")\n",
    "graph.add_edge(\"planner\", \"websearch\")\n",
    "graph.add_edge(\"websearch\", END)\n",
    "\n",
    "graph = graph.compile()\n",
    "graph.invoke({\"research_question\": research_question})"
   ]
  },
  {
   "cell_type": "markdown",
   "metadata": {},
   "source": [
    "### Selector Agent"
   ]
  },
  {
   "cell_type": "markdown",
   "metadata": {},
   "source": [
    "now we'll pass the formatted results from serper API to the Selector."
   ]
  },
  {
   "cell_type": "code",
   "execution_count": 119,
   "metadata": {},
   "outputs": [],
   "source": [
    "selector_prompt_template = PromptTemplate.from_template(\n",
    "    \"\"\"\n",
    "    You are a selector. You will be presented with a search engine results page containing a list of potentially relevant \n",
    "    search results. Your task is to read through these results, select the most relevant one, and provide a comprehensive \n",
    "    reason for your selection.\n",
    "\n",
    "    here is the search engine results page:\n",
    "    {serp}\n",
    "\n",
    "    Adjust your selection based on any feedback received:\n",
    "    Feedback: {feedback}\n",
    "\n",
    "    Here are your previous selections:\n",
    "    {previous_selections}\n",
    "    \n",
    "    Consider this information when making your new selection.\n",
    "\n",
    "    Current date and time:\n",
    "    {datetime}\n",
    "    \"\"\"\n",
    ")\n",
    "\n",
    "\n",
    "def selector(state: AgentGraphState):\n",
    "    reviewer_response =  state.get(\"reviewer_response\", None)\n",
    "    if not reviewer_response:\n",
    "        feedback = None\n",
    "    else:\n",
    "        feedback = reviewer_response.feedback\n",
    "    \n",
    "    previous_selections = state.get(\"selector_response\", None)\n",
    "    if not previous_selections:\n",
    "        previous_selections = None\n",
    "    else:\n",
    "        previous_selections = previous_selections.selected_page_url\n",
    "    \n",
    "    selector_prompt = selector_prompt_template.format(\n",
    "        serp=state[\"serper_response\"],  # search engine results\n",
    "        feedback=feedback,\n",
    "        previous_selections=previous_selections,\n",
    "        datetime=get_current_utc_datetime()\n",
    "    )\n",
    "\n",
    "    messages = [\n",
    "        SystemMessage(content=selector_prompt),\n",
    "        HumanMessage(content=f\"research_question: {research_question}\")\n",
    "    ]\n",
    "\n",
    "    llm = ChatOpenAI(model=MODEL, temperature=TEMPERATURE)\n",
    "    structured_selector_llm = llm.with_structured_output(SelectorOutput)\n",
    "    return {\"selector_response\": structured_selector_llm.invoke(messages)}"
   ]
  },
  {
   "cell_type": "code",
   "execution_count": 16,
   "metadata": {},
   "outputs": [
    {
     "data": {
      "text/plain": [
       "{'research_question': 'why is Maringá considered one of the warmest cities of the state of Paraná, Brazil?',\n",
       " 'planner_response': PlannerOutput(search_term='Maringá warmest city Paraná', overall_strategy='Begin by searching for climate data and geographical information about Maringá. Look for studies or articles that discuss temperature averages, weather patterns, and any geographical features that contribute to its warmth. Additionally, explore local meteorological reports and historical climate data to understand seasonal variations.', additional_information=['Maringá climate data', 'Maringá temperature averages', 'geography of Maringá', 'Paraná state climate comparison', 'Maringá weather patterns']),\n",
       " 'selector_response': SelectorOutput(selected_page_url='https://weatherspark.com/y/29734/Average-Weather-in-Maring%C3%A1-Paran%C3%A1-Brazil-Year-Round', description='Climate and Average Weather Year Round in Maringá Paraná, Brazil', reason_for_selection='This page provides detailed information about the climate and average weather conditions in Maringá throughout the year, including temperature ranges and seasonal variations. It specifically highlights that February is the hottest month, with average high temperatures reaching 87°F (approximately 31°C), which supports the claim that Maringá is one of the warmest cities in Paraná. Additionally, it discusses the duration of the hot season and the overall climate characteristics, making it a comprehensive source for understanding why Maringá experiences such warm temperatures.'),\n",
       " 'reporter_response': [],\n",
       " 'serper_response': [HumanMessage(content='Title: Maringá climate: weather by month, temperature, rain\\nLink: https://www.climatestotravel.com/climate/brazil/maring%C3%A1\\nSnippet: January is generally a warm to hot, muggy month. The average temperature is of 25.4 °C (78 °F), with a minimum of 21 °C (69.7 °F) and a maximum of 29.8 °C (85.7 ...\\n---\\nTitle: Climate and Average Weather Year Round in Maringá Paraná, Brazil\\nLink: https://weatherspark.com/y/29734/Average-Weather-in-Maring%C3%A1-Paran%C3%A1-Brazil-Year-Round\\nSnippet: The hottest month of the year in Maringá is February, with an average high of 87°F and low of 70°F. The cool season lasts for 2.3 months, from May 13 to July 23 ...\\n---\\nTitle: Maringá - Wikipedia\\nLink: https://en.wikipedia.org/wiki/Maring%C3%A1\\nSnippet: Maringá is a municipality in southern Brazil founded on 10 May 1947 as a planned urban area. It is the third largest city in the state of Paraná, ...\\n---\\nTitle: Weather Maringa & temperature by month - Climate-Data.org\\nLink: https://en.climate-data.org/south-america/brazil/parana/maringa-4479/\\nSnippet: The mean yearly temperature observed in Maringa is recorded to be 22.0 °C | 71.6 °F. The annual rainfall is 1561 mm | 61.5 inch.\\n---\\nTitle: Maringá | Brazilian City, Tourist Destination - Britannica\\nLink: https://www.britannica.com/place/Maringa\\nSnippet: Maringá, city, northwestern Paraná estado (state), southern Brazil. It lies on the Paraná Plateau, at an elevation of 169 feet (52 metres) above sea level.\\n---\\nTitle: Average monthly and annual air temperatures in Maringa\\nLink: https://www.weatherandclimate.eu/history/83767\\nSnippet: Average monthly and annual air temperatures in Maringa ; 24.7, 24.4, 24.6, 21.4, 18.8 ; 24.3, 22.5, 23.3, 21.8, 17.4 ...\\n---\\nTitle: Climate: Paraná in Brazil - Worlddata.info\\nLink: https://www.worlddata.info/america/brazil/climate-parana.php\\nSnippet: The average annual temperature in the region of Paraná is 22 degrees Celcius. It is highest in January at 26 °C and lowest in July. Sunshine hours per day 0 ...\\n---\\nTitle: Maringá Regional Airport Climate, Weather By Month, Average ...\\nLink: https://weatherspark.com/y/149903/Average-Weather-at-Maring%C3%A1-Regional-Airport-Paran%C3%A1-Brazil-Year-Round\\nSnippet: The hot season lasts for 6.0 months, from October 7 to April 9, with an average daily high temperature above 85°F. The hottest month of the year at Maringá ...\\n---\\nTitle: Maringa, Parana | Brol.com\\nLink: https://www.brol.com/brazil-destinations/maringa-parana/\\nSnippet: In 1947, Maringa was founded as a planned area. It is the third largest city in the Parana. This is the third largest city is southern Brazil. In 1951, Maringa ...\\n---\\nTitle: knowing maringá - pgm@uem.br\\nLink: http://www.pgm.uem.br/english/maringa/maringa.htm\\nSnippet: The coldest season presents average temperature inferior to 18ºC/64.4ºF ... Currently, Maringá is the third biggest city of Paraná and occupies the 5th ...\\n---', additional_kwargs={}, response_metadata={}, id='a1dc5ef3-6580-4a49-92fa-20e3c619169c')],\n",
       " 'scraper_response': [],\n",
       " 'final_report': [],\n",
       " 'end_chain': []}"
      ]
     },
     "execution_count": 16,
     "metadata": {},
     "output_type": "execute_result"
    }
   ],
   "source": [
    "graph = StateGraph(AgentGraphState)\n",
    "\n",
    "graph.add_node(\"planner\", planner)\n",
    "graph.add_node(\"websearch\", google_serper)\n",
    "graph.add_node(\"selector\", selector)\n",
    "\n",
    "graph.add_edge(START, \"planner\")\n",
    "graph.add_edge(\"planner\", \"websearch\")\n",
    "graph.add_edge(\"websearch\", \"selector\")\n",
    "graph.add_edge(\"selector\", END)\n",
    "\n",
    "graph = graph.compile()\n",
    "graph.invoke({\"research_question\": research_question})"
   ]
  },
  {
   "cell_type": "markdown",
   "metadata": {},
   "source": [
    "### Scraping Tool"
   ]
  },
  {
   "cell_type": "markdown",
   "metadata": {},
   "source": [
    "Next step is to scrape the url selected by the Selector Agent. Let's do that."
   ]
  },
  {
   "cell_type": "code",
   "execution_count": 17,
   "metadata": {},
   "outputs": [],
   "source": [
    "import json\n",
    "import requests\n",
    "from bs4 import BeautifulSoup\n",
    "from langchain_core.messages import HumanMessage\n",
    "\n",
    "\n",
    "def is_garbled(text):\n",
    "    \"\"\"\n",
    "    A simple heuristic to detect garbled text:\n",
    "    high proportion of non-ASCII characters\n",
    "    \"\"\"\n",
    "    non_ascii_count = sum(1 for char in text if ord(char) > 127)\n",
    "    return non_ascii_count > len(text) * 0.3"
   ]
  },
  {
   "cell_type": "code",
   "execution_count": 18,
   "metadata": {},
   "outputs": [],
   "source": [
    "def scrape_website(state: AgentGraphState):\n",
    "    selector_response = state.get(\"selector_response\", None)\n",
    "    \n",
    "    try:    \n",
    "        url = selector_response.selected_page_url\n",
    "    except AttributeError as e:\n",
    "        return {**state, \"scraper_response\": f\"AttributeError occurred when trying to retrieve page URL: {e}. Make sure `selected_page_url` is not None.\"}\n",
    "    \n",
    "    try:\n",
    "        response = requests.get(url)\n",
    "        response.raise_for_status()\n",
    "        soup = BeautifulSoup(response.content, \"html.parser\")  # parse the html string\n",
    "\n",
    "        # extract content\n",
    "        texts = soup.stripped_strings\n",
    "        content = \" \".join(texts)\n",
    "\n",
    "        if is_garbled(content):\n",
    "            content = \"error in scraping website, garbled text returned.\"\n",
    "        else:\n",
    "            content = content[:4000]  # limit the content to 4000 characters    \n",
    "    except requests.HTTPError as http_error:\n",
    "        if http_error.response.status_code == 403:\n",
    "            content = f\"error in scraping website, 403 forbidden for url: {url}\"\n",
    "        else:\n",
    "            content = f\"error in scraping website, {str(e)}\"\n",
    "    except requests.RequestException as req_error:\n",
    "        content = f\"error in scraping website, {str(req_error)}\"\n",
    "    \n",
    "    state[\"scraper_response\"].append(\n",
    "            SystemMessage(\n",
    "                content=str({\"source\": url, \"content\": content})\n",
    "            )\n",
    "        )\n",
    "        \n",
    "    return {\"scraper_response\": state[\"scraper_response\"]}"
   ]
  },
  {
   "cell_type": "code",
   "execution_count": 19,
   "metadata": {},
   "outputs": [
    {
     "data": {
      "text/plain": [
       "{'research_question': 'why is Maringá considered one of the warmest cities of the state of Paraná, Brazil?',\n",
       " 'planner_response': PlannerOutput(search_term='Maringá warmest city Paraná', overall_strategy='Begin by searching for climate data and geographical information about Maringá. Look for studies or articles that discuss temperature averages, weather patterns, and any specific geographical features that contribute to its warmth. Additionally, consider searching for comparisons with other cities in Paraná to understand its ranking in terms of temperature.', additional_information=['Maringá climate data', 'Maringá temperature averages', 'geographical features of Maringá', 'climate comparison Paraná cities', 'Maringá weather patterns']),\n",
       " 'selector_response': SelectorOutput(selected_page_url='https://weatherspark.com/y/29734/Average-Weather-in-Maring%C3%A1-Paran%C3%A1-Brazil-Year-Round', description='Climate and Average Weather Year Round in Maringá Paraná, Brazil', reason_for_selection='This page provides detailed information about the climate and average weather conditions in Maringá throughout the year, including temperature ranges and seasonal variations. It specifically highlights that February is the hottest month, with average high temperatures reaching 87°F (31°C), which supports the understanding of why Maringá is considered one of the warmest cities in Paraná.'),\n",
       " 'reporter_response': [],\n",
       " 'serper_response': [HumanMessage(content='Title: Maringá climate: weather by month, temperature, rain\\nLink: https://www.climatestotravel.com/climate/brazil/maring%C3%A1\\nSnippet: January is generally a warm to hot, muggy month. The average temperature is of 25.4 °C (78 °F), with a minimum of 21 °C (69.7 °F) and a maximum of 29.8 °C (85.7 ...\\n---\\nTitle: Climate and Average Weather Year Round in Maringá Paraná, Brazil\\nLink: https://weatherspark.com/y/29734/Average-Weather-in-Maring%C3%A1-Paran%C3%A1-Brazil-Year-Round\\nSnippet: The hottest month of the year in Maringá is February, with an average high of 87°F and low of 70°F. The cool season lasts for 2.3 months, from May 13 to July 23 ...\\n---\\nTitle: Maringá - Wikipedia\\nLink: https://en.wikipedia.org/wiki/Maring%C3%A1\\nSnippet: Maringá is a municipality in southern Brazil founded on 10 May 1947 as a planned urban area. It is the third largest city in the state of Paraná, ...\\n---\\nTitle: Weather Maringa & temperature by month - Climate Data\\nLink: https://en.climate-data.org/south-america/brazil/parana/maringa-4479/\\nSnippet: average temperature by month Maringa ... December is the warmest month of the year. The temperature in December averages 24.6 °C | 76.2 °F. During the month of ...\\n---\\nTitle: Maringá | Brazilian City, Tourist Destination - Britannica\\nLink: https://www.britannica.com/place/Maringa\\nSnippet: Maringá, city, northwestern Paraná estado (state), southern Brazil. It lies on the Paraná Plateau, at an elevation of 169 feet (52 metres) above sea level.\\n---\\nTitle: Climate: Paraná in Brazil - Worlddata.info\\nLink: https://www.worlddata.info/america/brazil/climate-parana.php\\nSnippet: Paraná is one of the cooler regions in Brazil, with an average daily high temperature of 29 degrees. It is warm or hot yearlong.\\n---\\nTitle: Average monthly and annual air temperatures in Maringa\\nLink: https://www.weatherandclimate.eu/history/83767\\nSnippet: Weather chronicle: Maringa (Parana, Brazil) (air temperature, precipitation by months and years).\\n---\\nTitle: Compare the Climate and Weather in Maringá to Another City\\nLink: https://weatherspark.com/compare/y/29734/Comparison-of-the-Average-Weather-in-Maring%C3%A1\\nSnippet: Weather Spark lets you compare and contrast the weather and climate in Maringá to any other city worldwide. You get a detailed report with graphs showing the ...\\n---\\nTitle: Maringa, Parana | Brol.com\\nLink: https://www.brol.com/brazil-destinations/maringa-parana/\\nSnippet: In 1947, Maringa was founded as a planned area. It is the third largest city in the Parana. This is the third largest city is southern Brazil. In 1951, Maringa ...\\n---\\nTitle: knowing maringá - pgm@uem.br\\nLink: http://www.pgm.uem.br/english/maringa/maringa.htm\\nSnippet: Currently, Maringá is the third biggest city of Paraná and occupies the 5th place in terms of total population on the rank of Brazilian South Region cities.\\n---', additional_kwargs={}, response_metadata={}, id='6dfa9fef-466c-4175-a447-e2c65a7f83ff')],\n",
       " 'scraper_response': [SystemMessage(content=\"{'source': 'https://weatherspark.com/y/29734/Average-Weather-in-Maring%C3%A1-Paran%C3%A1-Brazil-Year-Round', 'content': 'Maringá Climate, Weather By Month, Average Temperature (Paraná, Brazil) - Weather Spark Weather Spark Map Compare History Hide Ads °F °F °F, knots °C, m/s °C, km/h °C, mph °C, knots Show Charts Only English Deutsch (German) Español (Spanish) Français (French) हिन्दी (Hindi) Indonesia (Indonesian) Italiano (Italian) 日本語 (Japanese) 한국어 (Korean) Polski (Polish) Português (Portuguese) Русский (Russian) ไทย (Thai) Türkçe (Turkish) Tiếng Việt (Vietnamese) 简体中文 (Chinese) 繁體中文 (Chinese) WeatherSpark.com Brazil Paraná Full Year Oct Today Spring Summer Fall Winter Jan Feb Mar Apr May Jun Jul Aug Sep Oct Nov Dec Climate and Average Weather Year Round in Maringá Paraná, Brazil In Maringá, the summers are long, hot, muggy, and mostly cloudy; the winters are short, comfortable, and mostly clear; and it is wet year round. Over the course of the year, the temperature typically varies from 58°F to 87°F and is rarely below 49°F or above 95°F . Based on the tourism score , the best time of year to visit Maringá for warm-weather activities is from mid April to mid September . Climate in Maringá Link Download Compare History: 2024 2023 2022 2021 2020 2019 2018 2017 2016 hot warm warm hot Jan Feb Mar Apr May Jun Jul Aug Sep Oct Nov Dec Now Now 71% 71% 37% 37% clear overcast precipitation: 7.1 in precipitation: 7.1 in 2.1 in 2.1 in muggy: 89% muggy: 89% 3% 3% dry dry tourism score: 7.1 tourism score: 7.1 4.3 4.3 Maringá weather by month. Click on each chart for more information. Average Temperature in Maringá The hot season lasts for 6.1 months , from October 6 to April 9 , with an average daily high temperature above 84°F . The hottest month of the year in Maringá is February , with an average high of 87°F and low of 70°F . The cool season lasts for 2.3 months , from May 13 to July 23 , with an average daily high temperature below 77°F . The coldest month of the year in Maringá is June , with an average low of 58°F and high of 75°F . Average High and Low Temperature in Maringá Link Download Compare History: 2024 2023 2022 2021 2020 2019 2018 2017 2016 Average High and Low Temperature in Maringá hot hot cool Jan Feb Mar Apr May Jun Jul Aug Sep Oct Nov Dec 0°F 0°F 10°F 10°F 20°F 20°F 30°F 30°F 40°F 40°F 50°F 50°F 60°F 60°F 70°F 70°F 80°F 80°F 90°F 90°F 100°F 100°F Jul 20 77°F Jul 20 77°F Mar 1 87°F Mar 1 87°F 58°F 58°F 70°F 70°F Oct 6 84°F Oct 6 84°F Apr 9 84°F Apr 9 84°F May 13 77°F May 13 77°F 65°F 65°F 67°F 67°F 61°F 61°F Now Now The daily average high (red line) and low (blue line) temperature, with 25th to 75th and 10th to 90th percentile bands. The thin dotted lines are the corresponding average perceived temperatures. Average Jan Feb Mar Apr May Jun Jul Aug Sep Oct Nov Dec High 86°F 87°F 86°F 83°F 77°F 75°F 77°F 81°F 83°F 85°F 86°F 86°F Temp. 77°F 78°F 77°F 74°F 68°F 66°F 66°F 70°F 72°F 75°F 76°F 77°F Low 70°F 70°F 69°F 66°F 60°F 58°F 58°F 60°F 63°F 66°F 68°F 69°F The figure below shows you a compact characterization of the entire year of hourly average temperatures. The horizontal axis is the day of the year, the vertical axis is the hour of the day, and the color is the average temperature for that hour and day. Average Hourly Temperature in Maringá Link Download Compare History: 2024 2023 2022 2021 2020 2019 2018 2017 2016 Average Hourly Temperature in Maringá Jan Feb Mar Apr May Jun Jul Aug Sep Oct Nov Dec 12 AM 12 AM 2 AM 2 AM 4 AM 4 AM 6 AM 6 AM 8 AM 8 AM 10 AM 10 AM 12 PM 12 PM 2 PM 2 PM 4 PM 4 PM 6 PM 6 PM 8 PM 8 PM 10 PM 10 PM 12 AM 12 AM Now Now cool cool comfortable warm warm hot warm warm frigid 15°F freezing 32°F very cold 45°F cold 55°F cool 65°F comfortable 75°F warm 85°F hot 95°F sweltering The average hourly temperature, color coded into bands. The shaded overlays indicate night and civil twilight. Xiloxochico de Rafael Ávila Camacho, Mexico (4,298 miles away) and Komatipoort, Mpumalanga, South Africa (5,187 miles) are the far-away foreign places with temperatures most similar to Maringá ( view comparison ). © OpenStreetMap co'}\", additional_kwargs={}, response_metadata={}, id='0b05e6ae-59b6-4da0-b5bd-b1d93eeb04bb')],\n",
       " 'final_report': [],\n",
       " 'end_chain': []}"
      ]
     },
     "execution_count": 19,
     "metadata": {},
     "output_type": "execute_result"
    }
   ],
   "source": [
    "graph = StateGraph(AgentGraphState)\n",
    "\n",
    "graph.add_node(\"planner\", planner)\n",
    "graph.add_node(\"websearch\", google_serper)\n",
    "graph.add_node(\"selector\", selector)\n",
    "graph.add_node(\"scrape_website\", scrape_website)\n",
    "\n",
    "graph.add_edge(START, \"planner\")\n",
    "graph.add_edge(\"planner\", \"websearch\")\n",
    "graph.add_edge(\"websearch\", \"selector\")\n",
    "graph.add_edge(\"selector\", \"scrape_website\")\n",
    "graph.add_edge(\"scrape_website\", END)\n",
    "\n",
    "graph = graph.compile()\n",
    "graph.invoke({\"research_question\": research_question})"
   ]
  },
  {
   "cell_type": "markdown",
   "metadata": {},
   "source": [
    "### Reporter"
   ]
  },
  {
   "cell_type": "code",
   "execution_count": 108,
   "metadata": {},
   "outputs": [],
   "source": [
    "reporter_prompt_template = PromptTemplate.from_template(\n",
    "    \"\"\"\n",
    "    You are a reporter. You will be presented with a webpage containing information relevant to the research question. \n",
    "    Your task is to provide a comprehensive answer to the research question based on the information found on the page. \n",
    "    Ensure to cite and reference your sources.\n",
    "\n",
    "    The research will be presented as a dictionary with the source as a URL and the content as the text on the page:\n",
    "    Research: {research}\n",
    "\n",
    "    Structure your response as follows:\n",
    "    Based on the information gathered, here is the comprehensive response to the query:\n",
    "    \"The sky appears blue because of a phenomenon called Rayleigh scattering, which causes shorter wavelengths of \n",
    "    light (blue) to scatter more than longer wavelengths (red) [1]. This scattering causes the sky to look blue most of \n",
    "    the time [1]. Additionally, during sunrise and sunset, the sky can appear red or orange because the light has to \n",
    "    pass through more atmosphere, scattering the shorter blue wavelengths out of the line of sight and allowing the \n",
    "    longer red wavelengths to dominate [2].\"\n",
    "\n",
    "    Sources:\n",
    "    [1] https://example.com/science/why-is-the-sky-blue\n",
    "    [2] https://example.com/science/sunrise-sunset-colors\n",
    "\n",
    "    Adjust your response based on any feedback received:\n",
    "    Feedback: {feedback}\n",
    "\n",
    "    Here are your previous reports:\n",
    "    {previous_reports}\n",
    "\n",
    "    Current date and time:\n",
    "    {datetime}\n",
    "    \"\"\"\n",
    ")\n",
    "\n",
    "\n",
    "def reporter(state: AgentGraphState):\n",
    "    \n",
    "    reviewer_response =  state.get(\"reviewer_response\", None)\n",
    "    if not reviewer_response:\n",
    "        feedback = None\n",
    "    else:\n",
    "        feedback = reviewer_response.feedback\n",
    "\n",
    "    previous_selections = state.get(\"selector_response\", None)\n",
    "    if not previous_selections:\n",
    "        previous_selections = None\n",
    "    else:\n",
    "        previous_selections = previous_selections.selected_page_url\n",
    "    \n",
    "    research = \"\\n\\n\".join(scrape.content for scrape in state[\"scraper_response\"])\n",
    "    \n",
    "    reporter_prompt = reporter_prompt_template.format(\n",
    "        research=research,\n",
    "        feedback=feedback,\n",
    "        previous_reports=previous_selections,\n",
    "        datetime=get_current_utc_datetime(),\n",
    "    )\n",
    "\n",
    "    messages = [\n",
    "        SystemMessage(content=reporter_prompt),\n",
    "        HumanMessage(content=f\"research question: {research_question}\")\n",
    "    ]\n",
    "\n",
    "    researcher_llm = ChatOpenAI(model=MODEL, temperature=TEMPERATURE)\n",
    "    return {\"reporter_response\": researcher_llm.invoke(messages)}"
   ]
  },
  {
   "cell_type": "code",
   "execution_count": 21,
   "metadata": {},
   "outputs": [
    {
     "data": {
      "text/plain": [
       "{'research_question': 'why is Maringá considered one of the warmest cities of the state of Paraná, Brazil?',\n",
       " 'planner_response': PlannerOutput(search_term='Maringá warmest city Paraná', overall_strategy='Begin by searching for climate data and geographical information about Maringá. Look for studies or articles that discuss temperature averages, weather patterns, and any geographical features that contribute to its warmth. Additionally, consider searching for comparisons with other cities in Paraná to understand its ranking in terms of temperature.', additional_information=['Maringá climate data', 'Maringá temperature averages', 'geographical features of Maringá', 'climate comparison Paraná cities', 'Maringá weather patterns']),\n",
       " 'selector_response': SelectorOutput(selected_page_url='https://weatherspark.com/y/29734/Average-Weather-in-Maring%C3%A1-Paran%C3%A1-Brazil-Year-Round', description='Climate and Average Weather Year Round in Maringá Paraná, Brazil', reason_for_selection='This page provides detailed information about the climate and average weather conditions in Maringá throughout the year, including temperature ranges and seasonal variations. It specifically highlights that February is the hottest month, with average high temperatures reaching 87°F (approximately 31°C), which supports the claim that Maringá is one of the warmest cities in Paraná. Additionally, it discusses the duration of the cool season and overall climate characteristics, making it a comprehensive source for understanding why Maringá experiences such warm temperatures.'),\n",
       " 'reporter_response': [AIMessage(content='Based on the information gathered, here is the comprehensive response to the query:\\n\\nMaringá is considered one of the warmest cities in the state of Paraná, Brazil, due to its climatic conditions characterized by long, hot summers and relatively mild winters. The city experiences a hot season that lasts approximately 6.1 months, from early October to mid-April, during which the average daily high temperature exceeds 84°F (29°C). February is noted as the hottest month, with average high temperatures reaching 87°F (31°C) and lows around 70°F (21°C) [1].\\n\\nAdditionally, the climate in Maringá is described as muggy and mostly cloudy during the summer months, contributing to the perception of warmth. The winters, while shorter and more comfortable, are still relatively mild, with average high temperatures below 77°F (25°C) and lows around 58°F (14°C) in June, the coldest month [1]. The overall temperature range throughout the year typically varies from 58°F to 87°F (14°C to 31°C), with rare occurrences of temperatures dropping below 49°F (9°C) or exceeding 95°F (35°C) [1].\\n\\nThe combination of these factors—extended periods of high temperatures, humidity, and a generally warm climate—positions Maringá as one of the warmest cities in Paraná.\\n\\nSources:\\n[1] https://weatherspark.com/y/29734/Average-Weather-in-Maring%C3%A1-Paran%C3%A1-Brazil-Year-Round', additional_kwargs={'refusal': None}, response_metadata={'token_usage': {'completion_tokens': 317, 'prompt_tokens': 1667, 'total_tokens': 1984, 'completion_tokens_details': {'audio_tokens': None, 'reasoning_tokens': 0}, 'prompt_tokens_details': {'audio_tokens': None, 'cached_tokens': 0}}, 'model_name': 'gpt-4o-mini-2024-07-18', 'system_fingerprint': 'fp_f85bea6784', 'finish_reason': 'stop', 'logprobs': None}, id='run-11ea1b3c-0b47-4de7-99ed-d57ce88da08d-0', usage_metadata={'input_tokens': 1667, 'output_tokens': 317, 'total_tokens': 1984})],\n",
       " 'serper_response': [HumanMessage(content='Title: Maringá climate: weather by month, temperature, rain\\nLink: https://www.climatestotravel.com/climate/brazil/maring%C3%A1\\nSnippet: January is generally a warm to hot, muggy month. The average temperature is of 25.4 °C (78 °F), with a minimum of 21 °C (69.7 °F) and a maximum of 29.8 °C (85.7 ...\\n---\\nTitle: Climate and Average Weather Year Round in Maringá Paraná, Brazil\\nLink: https://weatherspark.com/y/29734/Average-Weather-in-Maring%C3%A1-Paran%C3%A1-Brazil-Year-Round\\nSnippet: The hottest month of the year in Maringá is February, with an average high of 87°F and low of 70°F. The cool season lasts for 2.3 months, from May 13 to July 23 ...\\n---\\nTitle: Maringá - Wikipedia\\nLink: https://en.wikipedia.org/wiki/Maring%C3%A1\\nSnippet: Maringá is a municipality in southern Brazil founded on 10 May 1947 as a planned urban area. It is the third largest city in the state of Paraná, ...\\n---\\nTitle: Maringá | Brazilian City, Tourist Destination - Britannica\\nLink: https://www.britannica.com/place/Maringa\\nSnippet: Maringá, city, northwestern Paraná estado ( ... Paraná state, the northern region of which crosses the Tropic of Capricorn, has a moderately warm climate. ... https ...\\n---\\nTitle: Weather Maringa & temperature by month - Climate Data\\nLink: https://en.climate-data.org/south-america/brazil/parana/maringa-4479/\\nSnippet: The climate in Maringa is warm and temperate. In Maringa, precipitation is notable throughout the entirety of the year, with even its most arid month still ...\\n---\\nTitle: Maringa, Parana | Brol.com\\nLink: https://www.brol.com/brazil-destinations/maringa-parana/\\nSnippet: In 1947, Maringa was founded as a planned area. It is the third largest city in the Parana. This is the third largest city is southern Brazil. In 1951, Maringa ...\\n---\\nTitle: Average monthly and annual air temperatures in Maringa\\nLink: https://www.weatherandclimate.eu/history/83767\\nSnippet: Average monthly and annual air temperatures in Maringa ; 24.7, 24.4, 24.6, 21.4, 18.8 ; 24.3, 22.5, 23.3, 21.8, 17.4 ...\\n---\\nTitle: Climate: Paraná in Brazil - Worlddata.info\\nLink: https://www.worlddata.info/america/brazil/climate-parana.php\\nSnippet: The average annual temperature in the region of Paraná is 22 degrees Celcius. It is highest in January at 26 °C and lowest in July. Sunshine hours per day 0 ...\\n---\\nTitle: Compare the Climate and Weather in Maringá to Another City\\nLink: https://weatherspark.com/compare/y/29734/Comparison-of-the-Average-Weather-in-Maring%C3%A1\\nSnippet: Weather Spark lets you compare and contrast the weather and climate in Maringá to any other city worldwide. You get a detailed report with graphs showing the ...\\n---\\nTitle: knowing maringá - pgm@uem.br\\nLink: http://www.pgm.uem.br/english/maringa/maringa.htm\\nSnippet: Currently, Maringá is the third biggest city of Paraná and occupies the 5th place in terms of total population on the rank of Brazilian South Region cities.\\n---', additional_kwargs={}, response_metadata={}, id='92160620-faed-460f-93cb-8cfe52c5f8e3')],\n",
       " 'scraper_response': [SystemMessage(content=\"{'source': 'https://weatherspark.com/y/29734/Average-Weather-in-Maring%C3%A1-Paran%C3%A1-Brazil-Year-Round', 'content': 'Maringá Climate, Weather By Month, Average Temperature (Paraná, Brazil) - Weather Spark Weather Spark Map Compare History Hide Ads °F °F °F, knots °C, m/s °C, km/h °C, mph °C, knots Show Charts Only English Deutsch (German) Español (Spanish) Français (French) हिन्दी (Hindi) Indonesia (Indonesian) Italiano (Italian) 日本語 (Japanese) 한국어 (Korean) Polski (Polish) Português (Portuguese) Русский (Russian) ไทย (Thai) Türkçe (Turkish) Tiếng Việt (Vietnamese) 简体中文 (Chinese) 繁體中文 (Chinese) WeatherSpark.com Brazil Paraná Full Year Oct Today Spring Summer Fall Winter Jan Feb Mar Apr May Jun Jul Aug Sep Oct Nov Dec Climate and Average Weather Year Round in Maringá Paraná, Brazil In Maringá, the summers are long, hot, muggy, and mostly cloudy; the winters are short, comfortable, and mostly clear; and it is wet year round. Over the course of the year, the temperature typically varies from 58°F to 87°F and is rarely below 49°F or above 95°F . Based on the tourism score , the best time of year to visit Maringá for warm-weather activities is from mid April to mid September . Climate in Maringá Link Download Compare History: 2024 2023 2022 2021 2020 2019 2018 2017 2016 hot warm warm hot Jan Feb Mar Apr May Jun Jul Aug Sep Oct Nov Dec Now Now 71% 71% 37% 37% clear overcast precipitation: 7.1 in precipitation: 7.1 in 2.1 in 2.1 in muggy: 89% muggy: 89% 3% 3% dry dry tourism score: 7.1 tourism score: 7.1 4.3 4.3 Maringá weather by month. Click on each chart for more information. Average Temperature in Maringá The hot season lasts for 6.1 months , from October 6 to April 9 , with an average daily high temperature above 84°F . The hottest month of the year in Maringá is February , with an average high of 87°F and low of 70°F . The cool season lasts for 2.3 months , from May 13 to July 23 , with an average daily high temperature below 77°F . The coldest month of the year in Maringá is June , with an average low of 58°F and high of 75°F . Average High and Low Temperature in Maringá Link Download Compare History: 2024 2023 2022 2021 2020 2019 2018 2017 2016 Average High and Low Temperature in Maringá hot hot cool Jan Feb Mar Apr May Jun Jul Aug Sep Oct Nov Dec 0°F 0°F 10°F 10°F 20°F 20°F 30°F 30°F 40°F 40°F 50°F 50°F 60°F 60°F 70°F 70°F 80°F 80°F 90°F 90°F 100°F 100°F Jul 20 77°F Jul 20 77°F Mar 1 87°F Mar 1 87°F 58°F 58°F 70°F 70°F Oct 6 84°F Oct 6 84°F Apr 9 84°F Apr 9 84°F May 13 77°F May 13 77°F 65°F 65°F 67°F 67°F 61°F 61°F Now Now The daily average high (red line) and low (blue line) temperature, with 25th to 75th and 10th to 90th percentile bands. The thin dotted lines are the corresponding average perceived temperatures. Average Jan Feb Mar Apr May Jun Jul Aug Sep Oct Nov Dec High 86°F 87°F 86°F 83°F 77°F 75°F 77°F 81°F 83°F 85°F 86°F 86°F Temp. 77°F 78°F 77°F 74°F 68°F 66°F 66°F 70°F 72°F 75°F 76°F 77°F Low 70°F 70°F 69°F 66°F 60°F 58°F 58°F 60°F 63°F 66°F 68°F 69°F The figure below shows you a compact characterization of the entire year of hourly average temperatures. The horizontal axis is the day of the year, the vertical axis is the hour of the day, and the color is the average temperature for that hour and day. Average Hourly Temperature in Maringá Link Download Compare History: 2024 2023 2022 2021 2020 2019 2018 2017 2016 Average Hourly Temperature in Maringá Jan Feb Mar Apr May Jun Jul Aug Sep Oct Nov Dec 12 AM 12 AM 2 AM 2 AM 4 AM 4 AM 6 AM 6 AM 8 AM 8 AM 10 AM 10 AM 12 PM 12 PM 2 PM 2 PM 4 PM 4 PM 6 PM 6 PM 8 PM 8 PM 10 PM 10 PM 12 AM 12 AM Now Now cool cool comfortable warm warm hot warm warm frigid 15°F freezing 32°F very cold 45°F cold 55°F cool 65°F comfortable 75°F warm 85°F hot 95°F sweltering The average hourly temperature, color coded into bands. The shaded overlays indicate night and civil twilight. Xiloxochico de Rafael Ávila Camacho, Mexico (4,298 miles away) and Komatipoort, Mpumalanga, South Africa (5,187 miles) are the far-away foreign places with temperatures most similar to Maringá ( view comparison ). © OpenStreetMap co'}\", additional_kwargs={}, response_metadata={}, id='a64f3870-31c7-42f4-9aa7-5f7def1991e5')],\n",
       " 'final_report': [],\n",
       " 'end_chain': []}"
      ]
     },
     "execution_count": 21,
     "metadata": {},
     "output_type": "execute_result"
    }
   ],
   "source": [
    "graph = StateGraph(AgentGraphState)\n",
    "\n",
    "graph.add_node(\"planner\", planner)\n",
    "graph.add_node(\"websearch\", google_serper)\n",
    "graph.add_node(\"selector\", selector)\n",
    "graph.add_node(\"scrape_website\", scrape_website)\n",
    "graph.add_node(\"reporter\", reporter)\n",
    "\n",
    "graph.add_edge(START, \"planner\")\n",
    "graph.add_edge(\"planner\", \"websearch\")\n",
    "graph.add_edge(\"websearch\", \"selector\")\n",
    "graph.add_edge(\"selector\", \"scrape_website\")\n",
    "graph.add_edge(\"scrape_website\", \"reporter\")\n",
    "graph.add_edge(\"reporter\", END)\n",
    "\n",
    "graph = graph.compile()\n",
    "graph.invoke({\"research_question\": research_question})"
   ]
  },
  {
   "cell_type": "markdown",
   "metadata": {},
   "source": [
    "### Reviewer"
   ]
  },
  {
   "cell_type": "code",
   "execution_count": 22,
   "metadata": {},
   "outputs": [],
   "source": [
    "reviewer_prompt_template = PromptTemplate.from_template(\n",
    "    \"\"\"\n",
    "    You are a reviewer. Your task is to review the reporter's response to the research question and provide feedback.\n",
    "\n",
    "    Here is the reporter's response:\n",
    "    Reporter's response: {reporter}\n",
    "\n",
    "    Your feedback should include reasons for passing or failing the review and suggestions for improvement.\n",
    "\n",
    "    You should consider the previous feedback you have given when providing new feedback.\n",
    "    Feedback: {feedback}\n",
    "\n",
    "    Current date and time:\n",
    "    {datetime}\n",
    "    \"\"\"\n",
    ")\n",
    "    \n",
    "    \n",
    "def reviewer(state: AgentGraphState):\n",
    "    \n",
    "    reviewer_response =  state.get(\"reviewer_response\", None)\n",
    "    if not reviewer_response:\n",
    "        feedback = None\n",
    "    else:\n",
    "        feedback = reviewer_response.feedback\n",
    "\n",
    "    reporter = \"\\n\\n\".join(report.content for report in state[\"reporter_response\"])\n",
    "\n",
    "    reviewer_prompt = reviewer_prompt_template.format(\n",
    "        reporter=reporter,\n",
    "        feedback=feedback,\n",
    "        datetime=get_current_utc_datetime()\n",
    "    )\n",
    "\n",
    "    messages = [\n",
    "        SystemMessage(content=reviewer_prompt),\n",
    "        HumanMessage(content=f\"research question: {research_question}\")\n",
    "    ]\n",
    "\n",
    "    llm = ChatOpenAI(model=MODEL, temperature=TEMPERATURE)\n",
    "    structured_reviewer_llm = llm.with_structured_output(ReviewerOutput)\n",
    "    return {\"reviewer_response\": structured_reviewer_llm.invoke(messages)}"
   ]
  },
  {
   "cell_type": "markdown",
   "metadata": {},
   "source": [
    "The response tells that it hasn't enough information to provide a feedback for the report, which makes sense since we are not passing that information now."
   ]
  },
  {
   "cell_type": "code",
   "execution_count": 25,
   "metadata": {},
   "outputs": [
    {
     "data": {
      "text/plain": [
       "{'research_question': 'why is Maringá considered one of the warmest cities of the state of Paraná, Brazil?',\n",
       " 'planner_response': PlannerOutput(search_term='Maringá warmest city Paraná', overall_strategy='Begin by searching for climate data and geographical information about Maringá. Look for studies or articles that discuss temperature averages, weather patterns, and any geographical features that contribute to its warmth. Additionally, explore local meteorological reports or government resources that may provide insights into the climate of the region.', additional_information=['Maringá climate data', 'Maringá temperature averages', 'geographical features of Maringá', 'Paraná state climate comparison', 'Maringá weather patterns']),\n",
       " 'selector_response': SelectorOutput(selected_page_url='https://weatherspark.com/y/29734/Average-Weather-in-Maring%C3%A1-Paran%C3%A1-Brazil-Year-Round', description='Climate and Average Weather Year Round in Maringá Paraná, Brazil', reason_for_selection='This page provides detailed information about the climate and average weather conditions in Maringá throughout the year, including temperature ranges and seasonal variations. It specifically highlights that February is the hottest month, with average high temperatures reaching 87°F (approximately 31°C), which supports the understanding of why Maringá is considered one of the warmest cities in Paraná.'),\n",
       " 'reporter_response': [AIMessage(content='Based on the information gathered, here is the comprehensive response to the query:\\n\\nMaringá is considered one of the warmest cities in the state of Paraná, Brazil, due to its climatic conditions characterized by long, hot summers and relatively mild winters. The city experiences a hot season that lasts approximately 6.1 months, from early October to mid-April, during which the average daily high temperature exceeds 84°F (29°C). February is noted as the hottest month, with average high temperatures reaching 87°F (31°C) and lows around 70°F (21°C) [1].\\n\\nAdditionally, the climate in Maringá is classified as humid and wet year-round, contributing to the overall warmth and muggy conditions during the summer months. The city also has a relatively short cool season, lasting about 2.3 months, where average high temperatures drop below 77°F (25°C), with June being the coldest month, averaging a high of 75°F (24°C) and a low of 58°F (14°C) [1]. \\n\\nThese factors, combined with the geographical location of Maringá, contribute to its reputation as one of the warmest cities in Paraná.\\n\\nSources:\\n[1] https://weatherspark.com/y/29734/Average-Weather-in-Maring%C3%A1-Paran%C3%A1-Brazil-Year-Round', additional_kwargs={'refusal': None}, response_metadata={'token_usage': {'completion_tokens': 281, 'prompt_tokens': 1667, 'total_tokens': 1948, 'completion_tokens_details': {'audio_tokens': None, 'reasoning_tokens': 0}, 'prompt_tokens_details': {'audio_tokens': None, 'cached_tokens': 1408}}, 'model_name': 'gpt-4o-mini-2024-07-18', 'system_fingerprint': 'fp_f85bea6784', 'finish_reason': 'stop', 'logprobs': None}, id='run-98347ca5-f362-4c24-b45e-b3bf84b93b28-0', usage_metadata={'input_tokens': 1667, 'output_tokens': 281, 'total_tokens': 1948})],\n",
       " 'reviewer_response': ReviewerOutput(feedback='The response provides a clear and detailed explanation of why Maringá is considered one of the warmest cities in Paraná, highlighting its long hot summers, mild winters, and specific temperature data. However, it could be improved by including more context about the geographical factors that contribute to the climate, such as elevation, proximity to bodies of water, or prevailing winds. Additionally, while the source is cited, it would be beneficial to include more diverse sources to strengthen the credibility of the information provided.', pass_review='False', comprehensive='False', citations_provided='True', relevant_to_research_question='True'),\n",
       " 'serper_response': [HumanMessage(content='Title: Maringá climate: weather by month, temperature, rain\\nLink: https://www.climatestotravel.com/climate/brazil/maring%C3%A1\\nSnippet: January is generally a warm to hot, muggy month. The average temperature is of 25.4 °C (78 °F), with a minimum of 21 °C (69.7 °F) and a maximum of 29.8 °C (85.7 ...\\n---\\nTitle: Climate and Average Weather Year Round in Maringá Paraná, Brazil\\nLink: https://weatherspark.com/y/29734/Average-Weather-in-Maring%C3%A1-Paran%C3%A1-Brazil-Year-Round\\nSnippet: The hottest month of the year in Maringá is February, with an average high of 87°F and low of 70°F. The cool season lasts for 2.3 months, from May 13 to July 23 ...\\n---\\nTitle: Maringá - Wikipedia\\nLink: https://en.wikipedia.org/wiki/Maring%C3%A1\\nSnippet: Maringá is a municipality in southern Brazil founded on 10 May 1947 as a planned urban area. It is the third largest city in the state of Paraná, ...\\n---\\nTitle: Weather Maringa & temperature by month - Climate-Data.org\\nLink: https://en.climate-data.org/south-america/brazil/parana/maringa-4479/\\nSnippet: The mean yearly temperature observed in Maringa is recorded to be 22.0 °C | 71.6 °F. The annual rainfall is 1561 mm | 61.5 inch.\\n---\\nTitle: Maringá | Brazilian City, Tourist Destination - Britannica\\nLink: https://www.britannica.com/place/Maringa\\nSnippet: Maringá, city, northwestern Paraná estado (state), southern Brazil. It lies on the Paraná Plateau, at an elevation of 169 feet (52 metres) above sea level.\\n---\\nTitle: Climate: Paraná in Brazil - Worlddata.info\\nLink: https://www.worlddata.info/america/brazil/climate-parana.php\\nSnippet: The average annual temperature in the region of Paraná is 22 degrees Celcius. It is highest in January at 26 °C and lowest in July. Sunshine hours per day 0 ...\\n---\\nTitle: Average monthly and annual air temperatures in Maringa\\nLink: https://www.weatherandclimate.eu/history/83767\\nSnippet: Average monthly and annual air temperatures in Maringa ; 24.7, 24.4, 24.6, 21.4, 18.8 ; 24.3, 22.5, 23.3, 21.8, 17.4 ...\\n---\\nTitle: Compare the Climate and Weather in Maringá to Another City\\nLink: https://weatherspark.com/compare/y/29734/Comparison-of-the-Average-Weather-in-Maring%C3%A1\\nSnippet: Compare the Climate and Weather in Maringá to Another City. Weather Spark lets you ... warm 85°F hot 95°F sweltering. Comparison of: Maringá · Map. Marker.\\n---\\nTitle: Maringa, Parana | Brol.com\\nLink: https://www.brol.com/brazil-destinations/maringa-parana/\\nSnippet: In 1947, Maringa was founded as a planned area. It is the third largest city in the Parana. This is the third largest city is southern Brazil. In 1951, Maringa ...\\n---\\nTitle: knowing maringá - pgm@uem.br\\nLink: http://www.pgm.uem.br/english/maringa/maringa.htm\\nSnippet: The coldest season presents average temperature inferior to 18ºC/64.4ºF ... Currently, Maringá is the third biggest city of Paraná and occupies the 5th ...\\n---', additional_kwargs={}, response_metadata={}, id='02617e2f-c67f-41eb-adb5-57b2a1fe8fba')],\n",
       " 'scraper_response': [SystemMessage(content=\"{'source': 'https://weatherspark.com/y/29734/Average-Weather-in-Maring%C3%A1-Paran%C3%A1-Brazil-Year-Round', 'content': 'Maringá Climate, Weather By Month, Average Temperature (Paraná, Brazil) - Weather Spark Weather Spark Map Compare History Hide Ads °F °F °F, knots °C, m/s °C, km/h °C, mph °C, knots Show Charts Only English Deutsch (German) Español (Spanish) Français (French) हिन्दी (Hindi) Indonesia (Indonesian) Italiano (Italian) 日本語 (Japanese) 한국어 (Korean) Polski (Polish) Português (Portuguese) Русский (Russian) ไทย (Thai) Türkçe (Turkish) Tiếng Việt (Vietnamese) 简体中文 (Chinese) 繁體中文 (Chinese) WeatherSpark.com Brazil Paraná Full Year Oct Today Spring Summer Fall Winter Jan Feb Mar Apr May Jun Jul Aug Sep Oct Nov Dec Climate and Average Weather Year Round in Maringá Paraná, Brazil In Maringá, the summers are long, hot, muggy, and mostly cloudy; the winters are short, comfortable, and mostly clear; and it is wet year round. Over the course of the year, the temperature typically varies from 58°F to 87°F and is rarely below 49°F or above 95°F . Based on the tourism score , the best time of year to visit Maringá for warm-weather activities is from mid April to mid September . Climate in Maringá Link Download Compare History: 2024 2023 2022 2021 2020 2019 2018 2017 2016 hot warm warm hot Jan Feb Mar Apr May Jun Jul Aug Sep Oct Nov Dec Now Now 71% 71% 37% 37% clear overcast precipitation: 7.1 in precipitation: 7.1 in 2.1 in 2.1 in muggy: 89% muggy: 89% 3% 3% dry dry tourism score: 7.1 tourism score: 7.1 4.3 4.3 Maringá weather by month. Click on each chart for more information. Average Temperature in Maringá The hot season lasts for 6.1 months , from October 6 to April 9 , with an average daily high temperature above 84°F . The hottest month of the year in Maringá is February , with an average high of 87°F and low of 70°F . The cool season lasts for 2.3 months , from May 13 to July 23 , with an average daily high temperature below 77°F . The coldest month of the year in Maringá is June , with an average low of 58°F and high of 75°F . Average High and Low Temperature in Maringá Link Download Compare History: 2024 2023 2022 2021 2020 2019 2018 2017 2016 Average High and Low Temperature in Maringá hot hot cool Jan Feb Mar Apr May Jun Jul Aug Sep Oct Nov Dec 0°F 0°F 10°F 10°F 20°F 20°F 30°F 30°F 40°F 40°F 50°F 50°F 60°F 60°F 70°F 70°F 80°F 80°F 90°F 90°F 100°F 100°F Jul 20 77°F Jul 20 77°F Mar 1 87°F Mar 1 87°F 58°F 58°F 70°F 70°F Oct 6 84°F Oct 6 84°F Apr 9 84°F Apr 9 84°F May 13 77°F May 13 77°F 65°F 65°F 67°F 67°F 61°F 61°F Now Now The daily average high (red line) and low (blue line) temperature, with 25th to 75th and 10th to 90th percentile bands. The thin dotted lines are the corresponding average perceived temperatures. Average Jan Feb Mar Apr May Jun Jul Aug Sep Oct Nov Dec High 86°F 87°F 86°F 83°F 77°F 75°F 77°F 81°F 83°F 85°F 86°F 86°F Temp. 77°F 78°F 77°F 74°F 68°F 66°F 66°F 70°F 72°F 75°F 76°F 77°F Low 70°F 70°F 69°F 66°F 60°F 58°F 58°F 60°F 63°F 66°F 68°F 69°F The figure below shows you a compact characterization of the entire year of hourly average temperatures. The horizontal axis is the day of the year, the vertical axis is the hour of the day, and the color is the average temperature for that hour and day. Average Hourly Temperature in Maringá Link Download Compare History: 2024 2023 2022 2021 2020 2019 2018 2017 2016 Average Hourly Temperature in Maringá Jan Feb Mar Apr May Jun Jul Aug Sep Oct Nov Dec 12 AM 12 AM 2 AM 2 AM 4 AM 4 AM 6 AM 6 AM 8 AM 8 AM 10 AM 10 AM 12 PM 12 PM 2 PM 2 PM 4 PM 4 PM 6 PM 6 PM 8 PM 8 PM 10 PM 10 PM 12 AM 12 AM Now Now cool cool comfortable warm warm hot warm warm frigid 15°F freezing 32°F very cold 45°F cold 55°F cool 65°F comfortable 75°F warm 85°F hot 95°F sweltering The average hourly temperature, color coded into bands. The shaded overlays indicate night and civil twilight. Xiloxochico de Rafael Ávila Camacho, Mexico (4,298 miles away) and Komatipoort, Mpumalanga, South Africa (5,187 miles) are the far-away foreign places with temperatures most similar to Maringá ( view comparison ). © OpenStreetMap co'}\", additional_kwargs={}, response_metadata={}, id='bd486d2f-2780-412b-9829-05f32d07c1af')],\n",
       " 'final_report': [],\n",
       " 'end_chain': []}"
      ]
     },
     "execution_count": 25,
     "metadata": {},
     "output_type": "execute_result"
    }
   ],
   "source": [
    "graph = StateGraph(AgentGraphState)\n",
    "\n",
    "graph.add_node(\"planner\", planner)\n",
    "graph.add_node(\"websearch\", google_serper)\n",
    "graph.add_node(\"selector\", selector)\n",
    "graph.add_node(\"scrape_website\", scrape_website)\n",
    "graph.add_node(\"reporter\", reporter)\n",
    "graph.add_node(\"reviewer\", reviewer)\n",
    "\n",
    "graph.add_edge(START, \"planner\")\n",
    "graph.add_edge(\"planner\", \"websearch\")\n",
    "graph.add_edge(\"websearch\", \"selector\")\n",
    "graph.add_edge(\"selector\", \"scrape_website\")\n",
    "graph.add_edge(\"scrape_website\", \"reporter\")\n",
    "graph.add_edge(\"reporter\", \"reviewer\")\n",
    "graph.add_edge(\"reviewer\", END)\n",
    "\n",
    "graph = graph.compile()\n",
    "graph.invoke({\"research_question\": research_question})"
   ]
  },
  {
   "cell_type": "markdown",
   "metadata": {},
   "source": [
    "### Router"
   ]
  },
  {
   "cell_type": "code",
   "execution_count": 127,
   "metadata": {},
   "outputs": [],
   "source": [
    "router_prompt_template = PromptTemplate.from_template(\n",
    "    \"\"\"\n",
    "    You are a router. Your task is to route the conversation to the next agent based on the feedback provided by the reviewer.\n",
    "    You must choose one of the following agents: planner, selector, reporter, or print_report.\n",
    "\n",
    "    Here is the feedback provided by the reviewer:\n",
    "    Feedback: {feedback}\n",
    "    Pass Review: {pass_review}\n",
    "    \n",
    "    ### Criteria for Choosing the Next Agent:\n",
    "    - **planner**: If new information is required.\n",
    "    - **selector**: If a different source should be selected.\n",
    "    - **reporter**: If the report formatting or style needs improvement, or if the response lacks clarity or comprehensiveness.\n",
    "    - **print_report**: If the Feedback marks pass_review as True, you must select print_report to print the final report and end the execution.\n",
    "    \"\"\"\n",
    ")\n",
    "\n",
    "def router(state: AgentGraphState):\n",
    "    reviewer_response =  state.get(\"reviewer_response\", None)\n",
    "    if not reviewer_response:\n",
    "        feedback = None\n",
    "        pass_review = None\n",
    "    else:\n",
    "        feedback = reviewer_response.feedback\n",
    "        pass_review = reviewer_response.pass_review\n",
    "\n",
    "    router_prompt = router_prompt_template.format(\n",
    "        feedback=feedback,\n",
    "        pass_review=pass_review\n",
    "    )\n",
    "\n",
    "    messages = [\n",
    "        SystemMessage(content=router_prompt),\n",
    "        HumanMessage(content=f\"research question: {research_question}\")\n",
    "    ]\n",
    "    \n",
    "    llm = ChatOpenAI(model=MODEL, temperature=TEMPERATURE)\n",
    "    structured_router_llm = llm.with_structured_output(RouterOutput)\n",
    "    output = structured_router_llm.invoke(messages)\n",
    "    return {\"router_response\": output}"
   ]
  },
  {
   "cell_type": "code",
   "execution_count": null,
   "metadata": {},
   "outputs": [],
   "source": [
    "graph = StateGraph(AgentGraphState)\n",
    "\n",
    "graph.add_node(\"planner\", planner)\n",
    "graph.add_node(\"websearch\", google_serper)\n",
    "graph.add_node(\"selector\", selector)\n",
    "graph.add_node(\"scrape_website\", scrape_website)\n",
    "graph.add_node(\"reporter\", reporter)\n",
    "graph.add_node(\"reviewer\", reviewer)\n",
    "\n",
    "graph.add_edge(START, \"planner\")\n",
    "graph.add_edge(\"planner\", \"websearch\")\n",
    "graph.add_edge(\"websearch\", \"selector\")\n",
    "graph.add_edge(\"selector\", \"scrape_website\")\n",
    "graph.add_edge(\"scrape_website\", \"reporter\")\n",
    "graph.add_edge(\"reporter\", \"reviewer\")\n",
    "graph.add_edge(\"reviewer\", END)\n",
    "\n",
    "graph = graph.compile()\n",
    "graph.invoke({\"research_question\": research_question})"
   ]
  },
  {
   "cell_type": "markdown",
   "metadata": {},
   "source": [
    "### Final Report"
   ]
  },
  {
   "cell_type": "code",
   "execution_count": 132,
   "metadata": {},
   "outputs": [],
   "source": [
    "from langgraph.graph import END\n",
    "\n",
    "# Determine whether to end or summarize the conversation\n",
    "def print_report(state: AgentGraphState):\n",
    "    \"\"\"Redirect the final report to the END of the graph\"\"\"\n",
    "    final_report = \"\\n\\n\".join(report.content for report in state[\"reporter_response\"])\n",
    "    \n",
    "    print(f\"Final Report 📝:\\n\\n\\n{final_report}\")\n",
    "    return state"
   ]
  },
  {
   "cell_type": "markdown",
   "metadata": {},
   "source": [
    "# 4. Graph"
   ]
  },
  {
   "cell_type": "markdown",
   "metadata": {},
   "source": [
    "In the previous section, we implemented the code that will be used to create the nodes of the graph. In this section, we are going to create the graph itself. And for that, it will be necessary to wrap the code for each node from the previous section in a function to manage the state transitions of the graph."
   ]
  },
  {
   "cell_type": "code",
   "execution_count": 143,
   "metadata": {},
   "outputs": [],
   "source": [
    "def routing(state: AgentGraphState):\n",
    "    next_agent = state[\"router_response\"].next_agent\n",
    "    \n",
    "    if state[\"reviewer_response\"].pass_review == \"True\":\n",
    "        return \"print_report\"\n",
    "    \n",
    "    if next_agent in [\"planner\", \"selector\", \"reporter\", \"print_report\"]:\n",
    "        return next_agent\n",
    "    else:\n",
    "        raise(\"Router Agent return an Invalid Output.\")"
   ]
  },
  {
   "cell_type": "code",
   "execution_count": 144,
   "metadata": {},
   "outputs": [],
   "source": [
    "from langgraph.graph import StateGraph, START\n",
    "\n",
    "graph = StateGraph(AgentGraphState)\n",
    "\n",
    "graph.add_node(\"planner\", planner)\n",
    "graph.add_node(\"websearch\", google_serper)\n",
    "graph.add_node(\"selector\", selector)\n",
    "graph.add_node(\"scrape_website\", scrape_website)\n",
    "graph.add_node(\"reporter\", reporter)\n",
    "graph.add_node(\"reviewer\", reviewer)\n",
    "graph.add_node(\"router\", router)\n",
    "graph.add_node(\"print_report\", print_report)\n",
    "\n",
    "graph.add_edge(START, \"planner\")\n",
    "graph.add_edge(\"planner\", \"websearch\")\n",
    "graph.add_edge(\"websearch\", \"selector\")\n",
    "graph.add_edge(\"selector\", \"scrape_website\")\n",
    "graph.add_edge(\"scrape_website\", \"reporter\")\n",
    "graph.add_edge(\"reporter\", \"reviewer\")\n",
    "graph.add_edge(\"reviewer\", \"router\")\n",
    "graph.add_conditional_edges(\n",
    "    \"router\", routing, \n",
    "    {\n",
    "        \"planner\": \"planner\",\n",
    "        \"selector\": \"selector\",\n",
    "        \"reporter\": \"reporter\",\n",
    "        \"print_report\": \"print_report\"\n",
    "    }\n",
    ")\n",
    "graph.add_edge(\"print_report\", END)\n",
    "\n",
    "graph = graph.compile()"
   ]
  },
  {
   "cell_type": "code",
   "execution_count": 145,
   "metadata": {},
   "outputs": [
    {
     "data": {
      "image/jpeg": "[encoded data removed]",
      "text/plain": [
       "<IPython.core.display.Image object>"
      ]
     },
     "metadata": {},
     "output_type": "display_data"
    }
   ],
   "source": [
    "from IPython.display import Image, display\n",
    "\n",
    "display(Image(graph.get_graph().draw_mermaid_png()))"
   ]
  },
  {
   "cell_type": "code",
   "execution_count": 146,
   "metadata": {},
   "outputs": [
    {
     "name": "stdout",
     "output_type": "stream",
     "text": [
      "PLANNER\n",
      "Search Term: Maringá warmest city Paraná\n",
      "Overall Strategy: Begin by searching for climate data and geographical information about Maringá. Look for studies or articles that discuss the climate characteristics of the city, including temperature averages, humidity levels, and any geographical factors that contribute to its warmth. Additionally, explore comparisons with other cities in Paraná to understand why Maringá stands out.\n",
      "Additional Information: ['Maringá climate data', 'Maringá temperature averages', 'geographical factors Maringá', 'climate comparison Paraná cities', 'Maringá weather patterns']\n",
      "-------------------------------------------------- \n",
      "\n",
      "WEBSEARCH\n",
      "Serper Response: Title: Maringá climate: weather by month, temperature, rain\n",
      "Link: https://www.climatestotravel.com/climate/brazil/maring%C3%A1\n",
      "Snippet: January is generally a warm to hot, muggy month. The average temperature is of 25.4 °C (78 °F), with a minimum of 21 °C (69.7 °F) and a maximum of 29.8 °C (85.7 ...\n",
      "---\n",
      "Title: Climate and Average Weather Year Round in Maringá Paraná, Brazil\n",
      "Link: https://weatherspark.com/y/29734/Average-Weather-in-Maring%C3%A1-Paran%C3%A1-Brazil-Year-Round\n",
      "Snippet: The hottest month of the year in Maringá is February, with an average high of 87°F and low of 70°F. The cool season lasts for 2.3 months, from May 13 to July 23 ...\n",
      "---\n",
      "Title: Maringá - Wikipedia\n",
      "Link: https://en.wikipedia.org/wiki/Maring%C3%A1\n",
      "Snippet: Maringá is a municipality in southern Brazil founded on 10 May 1947 as a planned urban area. It is the third largest city in the state of Paraná, ...\n",
      "---\n",
      "Title: Maringá | Brazilian City, Tourist Destination - Britannica\n",
      "Link: https://www.britannica.com/place/Maringa\n",
      "Snippet: Maringá, city, northwestern Paraná estado (state), southern Brazil. It lies on the Paraná Plateau, at an elevation of 169 feet (52 metres) above sea level.\n",
      "---\n",
      "Title: Weather Maringa & temperature by month - Climate-Data.org\n",
      "Link: https://en.climate-data.org/south-america/brazil/parana/maringa-4479/\n",
      "Snippet: The mean yearly temperature observed in Maringa is recorded to be 22.0 °C | 71.6 °F. The annual rainfall is 1561 mm | 61.5 inch.\n",
      "---\n",
      "Title: Maringa, Parana | Brol.com\n",
      "Link: https://www.brol.com/brazil-destinations/maringa-parana/\n",
      "Snippet: In 1947, Maringa was founded as a planned area. It is the third largest city in the Parana. This is the third largest city is southern Brazil. In 1951, Maringa ...\n",
      "---\n",
      "Title: Average monthly and annual air temperatures in Maringa\n",
      "Link: https://www.weatherandclimate.eu/history/83767\n",
      "Snippet: Average monthly and annual air temperatures in Maringa ; 24.7, 24.4, 24.6, 21.4, 18.8 ; 24.3, 22.5, 23.3, 21.8, 17.4 ...\n",
      "---\n",
      "Title: Climate: Paraná in Brazil - Worlddata.info\n",
      "Link: https://www.worlddata.info/america/brazil/climate-parana.php\n",
      "Snippet: The average annual temperature in the region of Paraná is 22 degrees Celcius. It is highest in January at 26 °C and lowest in July. Sunshine hours per day 0 ...\n",
      "---\n",
      "Title: Compare the Climate and Weather in Maringá to Another City\n",
      "Link: https://weatherspark.com/compare/y/29734/Comparison-of-the-Average-Weather-in-Maring%C3%A1\n",
      "Snippet: Compare the Climate and Weather in Maringá to Another City. Weather Spark lets you ... warm 85°F hot 95°F sweltering. Comparison of: Maringá · Map. Marker.\n",
      "---\n",
      "Title: knowing maringá - pgm@uem.br\n",
      "Link: http://www.pgm.uem.br/english/maringa/maringa.htm\n",
      "Snippet: The coldest season presents average temperature inferior to 18ºC/64.4ºF ... Currently, Maringá is the third biggest city of Paraná and occupies the 5th ...\n",
      "---\n",
      "-------------------------------------------------- \n",
      "\n",
      "SELECTOR\n",
      "Selected Page Url: https://weatherspark.com/y/29734/Average-Weather-in-Maring%C3%A1-Paran%C3%A1-Brazil-Year-Round\n",
      "Description: Climate and Average Weather Year Round in Maringá Paraná, Brazil\n",
      "Reason For Selection: This page provides detailed information about the climate and average weather conditions in Maringá throughout the year, including temperature ranges and seasonal variations. It specifically highlights that February is the hottest month, with average high temperatures reaching 87°F (approximately 31°C), which supports the understanding of why Maringá is considered one of the warmest cities in Paraná.\n",
      "-------------------------------------------------- \n",
      "\n",
      "SCRAPER\n",
      "Scraper Response: {'source': 'https://weatherspark.com/y/29734/Average-Weather-in-Maring%C3%A1-Paran%C3%A1-Brazil-Year-Round', 'content': 'Maringá Climate, Weather By Month, Average Temperature (Paraná, Brazil) - Weather Spark Weather Spark Map Compare History Hide Ads °F °F °F, knots °C, m/s °C, km/h °C, mph °C, knots Show Charts Only English Deutsch (German) Español (Spanish) Français (French) हिन्दी (Hindi) Indonesia (Indonesian) Italiano (Italian) 日本語 (Japanese) 한국어 (Korean) Polski (Polish) Português (Portuguese) Русский (Russian) ไทย (Thai) Türkçe (Turkish) Tiếng Việt (Vietnamese) 简体中文 (Chinese) 繁體中文 (Chinese) WeatherSpark.com Brazil Paraná Full Year Oct Today Spring Summer Fall Winter Jan Feb Mar Apr May Jun Jul Aug Sep Oct Nov Dec Climate and Average Weather Year Round in Maringá Paraná, Brazil In Maringá, the summers are long, hot, muggy, and mostly cloudy; the winters are short, comfortable, and mostly clear; and it is wet year round. Over the course of the year, the temperature typically varies from 58°F to 87°F and is rarely below 49°F or above 95°F . Based on the tourism score , the best time of year to visit Maringá for warm-weather activities is from mid April to mid September . Climate in Maringá Link Download Compare History: 2024 2023 2022 2021 2020 2019 2018 2017 2016 hot warm warm hot Jan Feb Mar Apr May Jun Jul Aug Sep Oct Nov Dec Now Now 71% 71% 37% 37% clear overcast precipitation: 7.1 in precipitation: 7.1 in 2.1 in 2.1 in muggy: 89% muggy: 89% 3% 3% dry dry tourism score: 7.1 tourism score: 7.1 4.3 4.3 Maringá weather by month. Click on each chart for more information. Average Temperature in Maringá The hot season lasts for 6.1 months , from October 6 to April 9 , with an average daily high temperature above 84°F . The hottest month of the year in Maringá is February , with an average high of 87°F and low of 70°F . The cool season lasts for 2.3 months , from May 13 to July 23 , with an average daily high temperature below 77°F . The coldest month of the year in Maringá is June , with an average low of 58°F and high of 75°F . Average High and Low Temperature in Maringá Link Download Compare History: 2024 2023 2022 2021 2020 2019 2018 2017 2016 Average High and Low Temperature in Maringá hot hot cool Jan Feb Mar Apr May Jun Jul Aug Sep Oct Nov Dec 0°F 0°F 10°F 10°F 20°F 20°F 30°F 30°F 40°F 40°F 50°F 50°F 60°F 60°F 70°F 70°F 80°F 80°F 90°F 90°F 100°F 100°F Jul 20 77°F Jul 20 77°F Mar 1 87°F Mar 1 87°F 58°F 58°F 70°F 70°F Oct 6 84°F Oct 6 84°F Apr 9 84°F Apr 9 84°F May 13 77°F May 13 77°F 65°F 65°F 67°F 67°F 61°F 61°F Now Now The daily average high (red line) and low (blue line) temperature, with 25th to 75th and 10th to 90th percentile bands. The thin dotted lines are the corresponding average perceived temperatures. Average Jan Feb Mar Apr May Jun Jul Aug Sep Oct Nov Dec High 86°F 87°F 86°F 83°F 77°F 75°F 77°F 81°F 83°F 85°F 86°F 86°F Temp. 77°F 78°F 77°F 74°F 68°F 66°F 66°F 70°F 72°F 75°F 76°F 77°F Low 70°F 70°F 69°F 66°F 60°F 58°F 58°F 60°F 63°F 66°F 68°F 69°F The figure below shows you a compact characterization of the entire year of hourly average temperatures. The horizontal axis is the day of the year, the vertical axis is the hour of the day, and the color is the average temperature for that hour and day. Average Hourly Temperature in Maringá Link Download Compare History: 2024 2023 2022 2021 2020 2019 2018 2017 2016 Average Hourly Temperature in Maringá Jan Feb Mar Apr May Jun Jul Aug Sep Oct Nov Dec 12 AM 12 AM 2 AM 2 AM 4 AM 4 AM 6 AM 6 AM 8 AM 8 AM 10 AM 10 AM 12 PM 12 PM 2 PM 2 PM 4 PM 4 PM 6 PM 6 PM 8 PM 8 PM 10 PM 10 PM 12 AM 12 AM Now Now cool cool comfortable warm warm hot warm warm frigid 15°F freezing 32°F very cold 45°F cold 55°F cool 65°F comfortable 75°F warm 85°F hot 95°F sweltering The average hourly temperature, color coded into bands. The shaded overlays indicate night and civil twilight. Xiloxochico de Rafael Ávila Camacho, Mexico (4,298 miles away) and Komatipoort, Mpumalanga, South Africa (5,187 miles) are the far-away foreign places with temperatures most similar to Maringá ( view comparison ). © OpenStreetMap co'}\n",
      "-------------------------------------------------- \n",
      "\n",
      "REPORTER\n",
      "Reporter Response: Based on the information gathered, here is the comprehensive response to the query:\n",
      "\n",
      "Maringá is considered one of the warmest cities in the state of Paraná, Brazil, due to its climatic conditions characterized by long, hot summers and relatively mild winters. The city experiences a hot season that lasts approximately 6.1 months, from early October to mid-April, during which the average daily high temperature exceeds 84°F (29°C). February is noted as the hottest month, with average high temperatures reaching 87°F (31°C) and lows around 70°F (21°C) [1].\n",
      "\n",
      "In contrast, the cool season in Maringá is shorter, lasting about 2.3 months from mid-May to late July, with average high temperatures below 77°F (25°C). The coldest month is June, where temperatures can drop to an average low of 58°F (14°C) and a high of 75°F (24°C) [1]. The overall temperature range throughout the year typically varies from 58°F to 87°F (14°C to 31°C), with rare occurrences of temperatures falling below 49°F (9°C) or exceeding 95°F (35°C) [1].\n",
      "\n",
      "Additionally, Maringá's climate is classified as humid, contributing to the perception of warmth throughout the year. The city is also known for its significant rainfall, which occurs consistently across the months, further influencing its warm and muggy conditions during the summer [1]. \n",
      "\n",
      "These factors combined—extended periods of high temperatures, mild winters, and high humidity—contribute to Maringá's reputation as one of the warmest cities in Paraná.\n",
      "\n",
      "Sources:\n",
      "[1] https://weatherspark.com/y/29734/Average-Weather-in-Maring%C3%A1-Paran%C3%A1-Brazil-Year-Round\n",
      "-------------------------------------------------- \n",
      "\n",
      "REVIEWER\n",
      "Feedback: The response provides a thorough explanation of Maringá's climate, detailing the temperature ranges, seasonal variations, and humidity levels that contribute to its reputation as one of the warmest cities in Paraná. The use of specific temperature data and the classification of the climate as humid effectively supports the claim. However, the response could be improved by including comparisons with other cities in Paraná to contextualize Maringá's warmth further. Additionally, a brief mention of how these climatic conditions affect the local lifestyle or economy could enhance the relevance of the information provided.\n",
      "Pass Review: True\n",
      "Comprehensive: True\n",
      "Citations Provided: True\n",
      "Relevant to Research Question: True\n",
      "-------------------------------------------------- \n",
      "\n",
      "ROUTER\n",
      "Next Agent: print_report\n",
      "-------------------------------------------------- \n",
      "\n",
      "Final Report 📝:\n",
      "\n",
      "\n",
      "Based on the information gathered, here is the comprehensive response to the query:\n",
      "\n",
      "Maringá is considered one of the warmest cities in the state of Paraná, Brazil, due to its climatic conditions characterized by long, hot summers and relatively mild winters. The city experiences a hot season that lasts approximately 6.1 months, from early October to mid-April, during which the average daily high temperature exceeds 84°F (29°C). February is noted as the hottest month, with average high temperatures reaching 87°F (31°C) and lows around 70°F (21°C) [1].\n",
      "\n",
      "In contrast, the cool season in Maringá is shorter, lasting about 2.3 months from mid-May to late July, with average high temperatures below 77°F (25°C). The coldest month is June, where temperatures can drop to an average low of 58°F (14°C) and a high of 75°F (24°C) [1]. The overall temperature range throughout the year typically varies from 58°F to 87°F (14°C to 31°C), with rare occurrences of temperatures falling below 49°F (9°C) or exceeding 95°F (35°C) [1].\n",
      "\n",
      "Additionally, Maringá's climate is classified as humid, contributing to the perception of warmth throughout the year. The city is also known for its significant rainfall, which occurs consistently across the months, further influencing its warm and muggy conditions during the summer [1]. \n",
      "\n",
      "These factors combined—extended periods of high temperatures, mild winters, and high humidity—contribute to Maringá's reputation as one of the warmest cities in Paraná.\n",
      "\n",
      "Sources:\n",
      "[1] https://weatherspark.com/y/29734/Average-Weather-in-Maring%C3%A1-Paran%C3%A1-Brazil-Year-Round\n"
     ]
    }
   ],
   "source": [
    "# Inputs\n",
    "research_question = \"Why is Maringá considered one of the warmest cities in the state of Paraná, Brazil?\"\n",
    "thread = {\"configurable\": {\"thread_id\": \"1\"}, \"recursion_limit\": 15}\n",
    "\n",
    "# Run the graph until the first interruption\n",
    "for event in graph.stream({\"research_question\": research_question}, \n",
    "                          thread, \n",
    "                          stream_mode=\"updates\"):\n",
    "    \n",
    "    plan = event.get(\"planner\", '')\n",
    "    if plan:\n",
    "        print(\"PLANNER\")\n",
    "        print(f\"Search Term: {plan['planner_response'].search_term}\")\n",
    "        print(f\"Overall Strategy: {plan['planner_response'].overall_strategy}\")\n",
    "        print(f\"Additional Information: {plan['planner_response'].additional_information}\")\n",
    "        print(\"-\" * 50, \"\\n\")\n",
    "        \n",
    "    web_search = event.get(\"websearch\", '')\n",
    "    if web_search:\n",
    "        print(\"WEBSEARCH\")\n",
    "        print(f\"Serper Response: {web_search['serper_response']}\")\n",
    "        print(\"-\" * 50, \"\\n\")\n",
    "    \n",
    "    selected = event.get(\"selector\", \"\")\n",
    "    if selected:\n",
    "        print(\"SELECTOR\")\n",
    "        print(f\"Selected Page Url: {selected['selector_response'].selected_page_url}\")\n",
    "        print(f\"Description: {selected['selector_response'].description}\")\n",
    "        print(f\"Reason For Selection: {selected['selector_response'].reason_for_selection}\")\n",
    "        print(\"-\" * 50, \"\\n\")\n",
    "        \n",
    "    scrap = event.get(\"scrape_website\", '')\n",
    "    if scrap:\n",
    "        print(\"SCRAPER\")\n",
    "        print(f\"Scraper Response: {scrap['scraper_response'][-1].content}\")\n",
    "        print(\"-\" * 50, \"\\n\")\n",
    "        \n",
    "    report = event.get(\"reporter\", \"\")\n",
    "    if report:\n",
    "        print(\"REPORTER\")\n",
    "        print(f\"Reporter Response: {report['reporter_response'].content}\")\n",
    "        print(\"-\" * 50, \"\\n\")\n",
    "        \n",
    "    review = event.get(\"reviewer\", \"\")\n",
    "    if review:\n",
    "        print(\"REVIEWER\")\n",
    "        print(f\"Feedback: {review['reviewer_response'].feedback}\")\n",
    "        print(f\"Pass Review: {review['reviewer_response'].pass_review}\")\n",
    "        print(f\"Comprehensive: {review['reviewer_response'].comprehensive}\")\n",
    "        print(f\"Citations Provided: {review['reviewer_response'].citations_provided}\")\n",
    "        print(f\"Relevant to Research Question: {review['reviewer_response'].relevant_to_research_question}\")\n",
    "        print(\"-\" * 50, \"\\n\")\n",
    "        \n",
    "    route = event.get(\"router\", \"\")\n",
    "    if route:\n",
    "        print(\"ROUTER\")\n",
    "        print(f\"Next Agent: {route['router_response'].next_agent}\")\n",
    "        print(\"-\" * 50, \"\\n\")"
   ]
  }
 ],
 "metadata": {
  "kernelspec": {
   "display_name": "graph-websearch-agent",
   "language": "python",
   "name": "python3"
  },
  "language_info": {
   "codemirror_mode": {
    "name": "ipython",
    "version": 3
   },
   "file_extension": ".py",
   "mimetype": "text/x-python",
   "name": "python",
   "nbconvert_exporter": "python",
   "pygments_lexer": "ipython3",
   "version": "3.11.9"
  }
 },
 "nbformat": 4,
 "nbformat_minor": 2
}
